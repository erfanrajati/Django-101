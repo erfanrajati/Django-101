{
 "cells": [
  {
   "cell_type": "markdown",
   "metadata": {},
   "source": [
    "# Dynamic Addressing\n",
    "\n",
    "Sometimes it's not very clear how many URLs you need to define for your project, that's where Dynamic Addressing comes in handy. By defining a function that handles all of the needed URLs which might be generated later on."
   ]
  },
  {
   "cell_type": "markdown",
   "metadata": {},
   "source": [
    "**Let's begin**\n",
    "\n",
    "1. Make a view function as we did before."
   ]
  },
  {
   "cell_type": "code",
   "execution_count": null,
   "metadata": {},
   "outputs": [],
   "source": [
    "from django.http import HttpResponse\n",
    "\n",
    "def dynamic_view(request, dynamic):\n",
    "    return HttpResponse(dynamic)"
   ]
  },
  {
   "cell_type": "markdown",
   "metadata": {},
   "source": [
    "2. Bind the URL to a path DYNAMICALLY, as follows."
   ]
  },
  {
   "cell_type": "code",
   "execution_count": null,
   "metadata": {},
   "outputs": [],
   "source": [
    "from django.urls import path\n",
    "from . import views\n",
    "\n",
    "urlpatterns = [\n",
    "    path('<dynamic>', view=views.dynamic_view),\n",
    "]"
   ]
  },
  {
   "cell_type": "markdown",
   "metadata": {},
   "source": [
    "* The `dynamic` argument will be fed into the `dynamic_view()` method with the same name. (`dynamic`)\n",
    "* Now, anything the client types in the URL, if is not already binded to another view, will bond to this dynamic view."
   ]
  },
  {
   "cell_type": "markdown",
   "metadata": {},
   "source": [
    "3. Test"
   ]
  },
  {
   "cell_type": "markdown",
   "metadata": {},
   "source": [
    "Type any URL and see what happens: `localhost:8000/MyOwnURL`"
   ]
  },
  {
   "cell_type": "markdown",
   "metadata": {},
   "source": [
    "### Multiple Dynamic URLs\n",
    "\n",
    "The good thing about Dynamic Addressing is that you can have as many Segments as you need. you just need to update your files in this way:"
   ]
  },
  {
   "cell_type": "code",
   "execution_count": null,
   "metadata": {},
   "outputs": [],
   "source": [
    "from django.http import HttpResponse\n",
    "\n",
    "def dynamic_view(request, dynamic, dynamic2, dynamic3):\n",
    "    return HttpResponse((dynamic, dynamic2, dynamic3))"
   ]
  },
  {
   "cell_type": "code",
   "execution_count": null,
   "metadata": {},
   "outputs": [],
   "source": [
    "from django.urls import path\n",
    "from . import views\n",
    "\n",
    "urlpatterns = [\n",
    "    path('<dynamic>/<dynamic2>/<dynamic3>', view=views.dynamic_view),\n",
    "]"
   ]
  },
  {
   "cell_type": "markdown",
   "metadata": {},
   "source": [
    "### Type Annotation for Dynamic Addressing\n",
    "\n",
    "There also this feature to control which data type the client can put in the URL. This feature is most useful when you want to control which function must be called based on Data Type."
   ]
  },
  {
   "cell_type": "code",
   "execution_count": null,
   "metadata": {},
   "outputs": [],
   "source": [
    "urlpatterns = [\n",
    "    path('<int:dynamic>', view=views.another_view),\n",
    "    path('<str:dynamic>', view=views.dynamic_view),\n",
    "]"
   ]
  },
  {
   "cell_type": "markdown",
   "metadata": {},
   "source": [
    "**Note that you must put less general data types first.**\n",
    "\n",
    "Because django tries to cast the URL segment to other data types along with some exception handling. Anything can be converted to string but that doesn't check out for int."
   ]
  },
  {
   "cell_type": "markdown",
   "metadata": {},
   "source": [
    "### HttpResponseRedirect\n",
    "\n",
    "Among all this Dynamic Addressing crap, one cool thing is Redirecting. This is how you can redirect the client to URL B if URL A was called. **Note that the status code for Redirection will be in range 300.**"
   ]
  },
  {
   "cell_type": "code",
   "execution_count": null,
   "metadata": {},
   "outputs": [],
   "source": [
    "from django.http import HttpResponseRedirect\n",
    "\n",
    "def my_view(request):\n",
    "    return HttpResponseRedirect(\"path/to/url/B\")"
   ]
  }
 ],
 "metadata": {
  "language_info": {
   "name": "python"
  }
 },
 "nbformat": 4,
 "nbformat_minor": 2
}
