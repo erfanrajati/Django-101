{
 "cells": [
  {
   "cell_type": "markdown",
   "metadata": {},
   "source": [
    "# Project No 1: Blog\n",
    "\n",
    "We have come a long way so far and now we will walk through coding a django project from ground up. The project will be a blog that has some posts and shows the details of those posts once clicked.\n",
    "\n",
    "Let's start simple. We make an app and call it main to act as a core for our project. Right after that, we'll make some views and urls."
   ]
  },
  {
   "cell_type": "code",
   "execution_count": 1,
   "metadata": {},
   "outputs": [],
   "source": [
    "from django.shortcuts import render\n",
    "\n",
    "# Create your views here.\n",
    "\n",
    "def index(request):\n",
    "    pass\n",
    "\n",
    "def posts(request):\n",
    "    pass\n",
    "\n",
    "def single_post(request):\n",
    "    pass"
   ]
  },
  {
   "cell_type": "markdown",
   "metadata": {},
   "source": [
    "`<slug>` is indeed a cool dynamic url tool which we'll talk about more deeply later on. Let's move on to urls. Now we did use `<slug:slug>` in our main app's urls, but the better practice would be to use it in a separate app called posts. Which is exactly how the project of this section is implemented."
   ]
  },
  {
   "cell_type": "code",
   "execution_count": null,
   "metadata": {},
   "outputs": [],
   "source": [
    "from django.urls import path\n",
    "from . import views\n",
    "\n",
    "urlpatterns = [\n",
    "    path(\"\", views.index),\n",
    "    path(\"posts\", views.posts),\n",
    "    path(\"posts/<slug:slug>\", views.single_post), # mywebsite.com/post/new-post\n",
    "]"
   ]
  },
  {
   "cell_type": "markdown",
   "metadata": {},
   "source": [
    "Great, now the addreses work. Time to add the master template. As we did before, make a new forlder at project root and call it `templates` inside which we will add a file `master.html` as below:"
   ]
  },
  {
   "cell_type": "code",
   "execution_count": null,
   "metadata": {
    "vscode": {
     "languageId": "html"
    }
   },
   "outputs": [],
   "source": [
    "<!-- master.html -->\n",
    "\n",
    "<!DOCTYPE html>\n",
    "<html lang=\"en\">\n",
    "<head>\n",
    "    <meta charset=\"UTF-8\">\n",
    "    <meta name=\"viewport\" content=\"width=device-width, initial-scale=1.0\">\n",
    "    <title>\n",
    "        {% block title %}\n",
    "        Title\n",
    "        {% endblock title %}\n",
    "    </title>\n",
    "    {% block header_refs %}\n",
    "    {% endblock header_refs %}\n",
    "\n",
    "</head>\n",
    "<body>\n",
    "    {% block content %}\n",
    "        <h1>Page Content</h1>\n",
    "    {% endblock content %}\n",
    "</body>\n",
    "</html>"
   ]
  },
  {
   "cell_type": "markdown",
   "metadata": {},
   "source": [
    "Next, it's time to **extend** this master template in our `main` app. **Don't forget to add the master template directory to project settings!**"
   ]
  },
  {
   "cell_type": "code",
   "execution_count": null,
   "metadata": {
    "vscode": {
     "languageId": "html"
    }
   },
   "outputs": [],
   "source": [
    "<!-- Blog/main/templates/main/index.html -->\n",
    "{% extends \"master.html\" %}\n",
    "\n",
    "{% block title %}\n",
    "    My Blog\n",
    "{% endblock title %}\n",
    "\n",
    "{% block content %}\n",
    "    <h1>Home Page</h1>\n",
    "{% endblock content %}"
   ]
  },
  {
   "cell_type": "markdown",
   "metadata": {},
   "source": [
    "Render it in the view function and we're done with the base html files and pages."
   ]
  },
  {
   "cell_type": "code",
   "execution_count": null,
   "metadata": {},
   "outputs": [],
   "source": [
    "def index(request):\n",
    "    render(request, \"main/index.html\")"
   ]
  },
  {
   "cell_type": "markdown",
   "metadata": {},
   "source": [
    "### Project start checklist\n",
    "\n",
    "This might be a good time to have a checklist on all the configurations needed when we start a new project.\n",
    "\n",
    "1. start project using `django-admin`. \n",
    "2. start a new app (your main app) using `$ python manage.py startapp`\n",
    "3. add the new app name to `INSTALLED_APPS`in project setitngs\n",
    "4. make folders for master templates and master styles\n",
    "5. add the needed blocks in `<body>` and `<head>` in master template\n",
    "6. don't forget to add a `{% load static %}` on top of the master template file\n",
    "7. add `BASE_DIR / 'templates'` to project settings at `TEMPLATES` part.\n",
    "8. add `BASE_DIR / 'static/'` to project settings at `STATICFILES_DIRS = `\n",
    "9. make you static and template folders in you app directory\n",
    "10. write some sample HTML CSS\n",
    "11. config some sample views and urls to test the app\n",
    "12. Done!"
   ]
  },
  {
   "cell_type": "markdown",
   "metadata": {},
   "source": [
    "### Addings Static Images\n",
    "\n",
    "The process here is actually farely simple, say we need to treat image files like `png`, `jpg`, etc. just like a css file. Store them in a folder called `images` in static directory. Reference them in your HTML file like this: \n",
    "\n",
    "```HTML\n",
    "<img src=\"{% static 'main/images/myimage.png' %}\">\n",
    "```\n",
    "\n",
    "replage `main` with your app name and `myimage.png` with your image file name.\n",
    "\n",
    "**Note: This approach only works for static images, the ones that will not change by user actoins, e. g. uploadin.**"
   ]
  },
  {
   "cell_type": "markdown",
   "metadata": {},
   "source": [
    "### Clean code practices for posts\n",
    "\n",
    "Each post has a code like this:"
   ]
  },
  {
   "cell_type": "code",
   "execution_count": null,
   "metadata": {
    "vscode": {
     "languageId": "html"
    }
   },
   "outputs": [],
   "source": [
    "<a href=\"{% url 'post_details' slug='postNumber' %}\">\n",
    "    <div class=\"post\">\n",
    "        <img src=\"{% static 'posts/includes/images/mountain.jpg' %}\" alt=\"post_img\">\n",
    "        <div class=\"text_container\">    \n",
    "            <h5>Post Title</h5>\n",
    "            <p>Post description, Lorem ipsum dolor, sit amet consectetur adipisicing elit. Molestias voluptatibus ex nisi numquam placeat odio voluptates assumenda voluptate est, iste iusto nostrum quod! Sit eius quos architecto quod optio laboriosam, sunt voluptas illum veritatis eaque.</p>\n",
    "        </div>\n",
    "    </div>\n",
    "</a>"
   ]
  },
  {
   "cell_type": "markdown",
   "metadata": {},
   "source": [
    "Of course repeating this in different places is not a good idea. Instead we'll use `includes` which we learned earlier.\n",
    "\n",
    "Make a `includes` folder in the templates directory. Add a `post.html` file inside and copy and paste the code relate to each post in there. "
   ]
  },
  {
   "cell_type": "markdown",
   "metadata": {},
   "source": [
    "### Dynamic data for each post\n",
    "\n",
    "It's time to start working with some database! He he he, not so fast! Our database here is a Python list in which there are dictionaries, each dictionary includes data for a single post: slug (id), title, author, image, content. There could be more but these are enough for now.\n",
    "\n",
    "Add this list in your `views.py` file."
   ]
  },
  {
   "cell_type": "code",
   "execution_count": null,
   "metadata": {},
   "outputs": [],
   "source": [
    "# posts/views.py\n",
    "\n",
    "all_posts = [\n",
    "    {\n",
    "        \"slug\": \"1234\",\n",
    "        \"title\": \"Learn Django\",\n",
    "        \"author\": \"Erfan Rajati\",\n",
    "        \"image\": \"mountain.jpg\",\n",
    "        \"content\": \"Lorem ipsum dolor sit amet consectetur adipisicing elit. Aliquam consectetur quaerat, distinctio id facilis facere\"\n",
    "    },\n",
    "    {\n",
    "        \"slug\": \"4311\",\n",
    "        \"title\": \"Learn Python\",\n",
    "        \"author\": \"Erfan Rajati\",\n",
    "        \"image\": \"mountain.jpg\",\n",
    "        \"content\": \"Lorem ipsum dolor sit amet consectetur adipisicing elit. Aliquam consectetur quaerat, distinctio id facilis facere\"\n",
    "    },\n",
    "    {\n",
    "        \"slug\": \"1423\",\n",
    "        \"title\": \"Learn Flask\",\n",
    "        \"author\": \"Erfan Rajati\",\n",
    "        \"image\": \"mountain.jpg\",\n",
    "        \"content\": \"Lorem ipsum dolor sit amet consectetur adipisicing elit. Aliquam consectetur quaerat, distinctio id facilis facere\"\n",
    "    },\n",
    "]"
   ]
  },
  {
   "cell_type": "markdown",
   "metadata": {},
   "source": [
    "After you made that, the view function which is in charge of rendering the posts page should have a `context` parameter set to `all_posts` to send this data back to the HTML file."
   ]
  },
  {
   "cell_type": "code",
   "execution_count": null,
   "metadata": {},
   "outputs": [],
   "source": [
    "def posts(request):\n",
    "    return render(request, \"posts/index.html\", context={\"data\":all_posts})"
   ]
  },
  {
   "cell_type": "markdown",
   "metadata": {},
   "source": [
    "Same with the main HTML file that was rendering the posts page, now it will look like this:"
   ]
  },
  {
   "cell_type": "code",
   "execution_count": null,
   "metadata": {
    "vscode": {
     "languageId": "html"
    }
   },
   "outputs": [],
   "source": [
    "{% block content %}\n",
    "    <h1>Posts Page</h1>\n",
    "    <div class=\"post_list\">\n",
    "        {% for post in data %}\n",
    "            {% include 'posts/includes/post.html' %}\n",
    "        {% endfor %}\n",
    "    </div>\n",
    "{% endblock content %}"
   ]
  },
  {
   "cell_type": "markdown",
   "metadata": {},
   "source": [
    "You'll notice that the `post.html` file does indeed have access to the `post` variable which the for loop is generating. So you can indeed use the data in that post inside the `post.html` file as well."
   ]
  },
  {
   "cell_type": "code",
   "execution_count": null,
   "metadata": {
    "vscode": {
     "languageId": "html"
    }
   },
   "outputs": [],
   "source": [
    "{% load static %}\n",
    "<a href=\"{% url 'post_details' slug='postNumber' %}\">\n",
    "    <div class=\"post\">\n",
    "        <img src=\"{% static 'posts/includes/images/mountain.jpg' %}\" alt=\"post_img\">\n",
    "        <div class=\"text_container\">    \n",
    "            <h5>\n",
    "                {{ post.title }}\n",
    "            </h5>\n",
    "            <p>\n",
    "                {{ post.content }}\n",
    "            </p>\n",
    "        </div>\n",
    "    </div>\n",
    "</a>"
   ]
  },
  {
   "cell_type": "markdown",
   "metadata": {},
   "source": [
    "Yeah I was fooled too! You can't just go `post[\"title\"]` here, you must you a dot to access the keys of a given Python dictoinary in HTML file. \n",
    "\n",
    "Before I forger, a little bit of Django Template Language is needed in order to make post images dynamic too. But don't worry about it, it's all that's needed. For now :)"
   ]
  },
  {
   "cell_type": "code",
   "execution_count": null,
   "metadata": {
    "vscode": {
     "languageId": "html"
    }
   },
   "outputs": [],
   "source": [
    "<img src=\"{% static 'posts/includes/images/'|add:post.image %}\" alt=\"post_img\">"
   ]
  }
 ],
 "metadata": {
  "kernelspec": {
   "display_name": "LearnDjango",
   "language": "python",
   "name": "python3"
  },
  "language_info": {
   "codemirror_mode": {
    "name": "ipython",
    "version": 3
   },
   "file_extension": ".py",
   "mimetype": "text/x-python",
   "name": "python",
   "nbconvert_exporter": "python",
   "pygments_lexer": "ipython3",
   "version": "3.13.1"
  }
 },
 "nbformat": 4,
 "nbformat_minor": 2
}
