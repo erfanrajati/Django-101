{
 "cells": [
  {
   "cell_type": "markdown",
   "metadata": {},
   "source": [
    "# Project No 1: Blog\n",
    "\n",
    "We have come a long way so far and now we will walk through coding a django project from ground up. The project will be a blog that has some posts and shows the details of those posts once clicked.\n",
    "\n",
    "Let's start simple. We make an app and call it main to act as a core for our project. Right after that, we'll make some views and urls."
   ]
  },
  {
   "cell_type": "code",
   "execution_count": null,
   "metadata": {},
   "outputs": [],
   "source": [
    "from django.shortcuts import render\n",
    "\n",
    "# Create your views here.\n",
    "\n",
    "def index(request):\n",
    "    pass\n",
    "\n",
    "def posts(request):\n",
    "    pass\n",
    "\n",
    "def single_post(request):\n",
    "    pass"
   ]
  },
  {
   "cell_type": "markdown",
   "metadata": {},
   "source": [
    "`<slug>` is indeed a cool dynamic url tool which we'll talk about more deeply later on. Let's move on to urls."
   ]
  },
  {
   "cell_type": "code",
   "execution_count": null,
   "metadata": {},
   "outputs": [],
   "source": [
    "from django.urls import path\n",
    "from . import views\n",
    "\n",
    "urlpatterns = [\n",
    "    path(\"\", views.index),\n",
    "    path(\"posts\", views.posts),\n",
    "    path(\"posts/<slug:slug>\", views.single_post), # mywebsite.com/post/new-post\n",
    "]"
   ]
  },
  {
   "cell_type": "markdown",
   "metadata": {},
   "source": [
    "Great, now the addreses work. Time to add the master template. As we did before, make a new forlder at project root and call it `templates` inside which we will add a file `master.html` as below:"
   ]
  },
  {
   "cell_type": "code",
   "execution_count": null,
   "metadata": {
    "vscode": {
     "languageId": "html"
    }
   },
   "outputs": [],
   "source": [
    "<!-- master.html -->\n",
    "\n",
    "<!DOCTYPE html>\n",
    "<html lang=\"en\">\n",
    "<head>\n",
    "    <meta charset=\"UTF-8\">\n",
    "    <meta name=\"viewport\" content=\"width=device-width, initial-scale=1.0\">\n",
    "    <title>\n",
    "        {% block title %}\n",
    "        Title\n",
    "        {% endblock title %}\n",
    "    </title>\n",
    "    {% block header_refs %}\n",
    "    {% endblock header_refs %}\n",
    "\n",
    "</head>\n",
    "<body>\n",
    "    {% block content %}\n",
    "        <h1>Page Content</h1>\n",
    "    {% endblock content %}\n",
    "</body>\n",
    "</html>"
   ]
  },
  {
   "cell_type": "markdown",
   "metadata": {},
   "source": [
    "Next, it's time to **extend** this master template in our `main` app. **Don't forget to add the master template directory to project settings!**"
   ]
  },
  {
   "cell_type": "code",
   "execution_count": null,
   "metadata": {
    "vscode": {
     "languageId": "html"
    }
   },
   "outputs": [],
   "source": [
    "<!-- Blog/main/templates/main/index.html -->\n",
    "{% extends \"master.html\" %}\n",
    "\n",
    "{% block title %}\n",
    "    My Blog\n",
    "{% endblock title %}\n",
    "\n",
    "{% block content %}\n",
    "    <h1>Home Page</h1>\n",
    "{% endblock content %}"
   ]
  },
  {
   "cell_type": "markdown",
   "metadata": {},
   "source": [
    "Render it in the view function and we're done with the base html files and pages."
   ]
  },
  {
   "cell_type": "code",
   "execution_count": null,
   "metadata": {},
   "outputs": [],
   "source": [
    "def index(request):\n",
    "    render(request, \"main/index.html\")"
   ]
  }
 ],
 "metadata": {
  "language_info": {
   "name": "python"
  }
 },
 "nbformat": 4,
 "nbformat_minor": 2
}
