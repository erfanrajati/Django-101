{
 "cells": [
  {
   "cell_type": "markdown",
   "metadata": {},
   "source": [
    "# Master Template\n",
    "\n",
    "The idea of having separate templates for each django app is good but far from completely functional. That's because there are a ton of alike parts in a webpage that can be reused instead of re-implemented! \n",
    "\n",
    "You must already be familiar with the concept of Abstraction and Inheritance in OOP, good news is that we have something faily similar to those when it comes to django templates. \n",
    "\n",
    "You can have a set of HTML docs as the Master Template of your project. To do this, we only need to make a folder called `templates` at the project root. The hierarchy would look like this after the work is done."
   ]
  },
  {
   "cell_type": "code",
   "execution_count": null,
   "metadata": {},
   "outputs": [],
   "source": [
    "/MyProject\n",
    "    /MyProject\n",
    "        <files.py>\n",
    "    \n",
    "    /app1\n",
    "        /templates\n",
    "            /app1\n",
    "                index.html\n",
    "        <files.py>\n",
    "    \n",
    "    /app2\n",
    "        /templates\n",
    "            /app2\n",
    "                index.html\n",
    "        <files.py>\n",
    "\n",
    "    /templates                  # Master Template!\n",
    "        master.html"
   ]
  },
  {
   "cell_type": "markdown",
   "metadata": {},
   "source": [
    "You'll notice the file called `master.html` in the `templates` directory that includes anything your website has among different pages (most of the pages). Like the intersection for most of html files in the project hierarchy. Not only that, you must also add a Django Template Tag called `block` in any place that might be overrided in project apps. Take a look:"
   ]
  },
  {
   "cell_type": "code",
   "execution_count": null,
   "metadata": {
    "vscode": {
     "languageId": "html"
    }
   },
   "outputs": [],
   "source": [
    "<!DOCTYPE html>\n",
    "<html lang=\"en\">\n",
    "<head>\n",
    "    <meta charset=\"UTF-8\">\n",
    "    <meta name=\"viewport\" content=\"width=device-width, initial-scale=1.0\">\n",
    "    <title>\n",
    "        {% block page_title %} <!--page_title is like a variable name for this block-->\n",
    "            Default Page Title\n",
    "        {% endblock page_title %}\n",
    "    </title> \n",
    "</head>\n",
    "    <body>\n",
    "        {% block content %}\n",
    "\n",
    "        {% endblock content %}\n",
    "    </body>\n",
    "</html>"
   ]
  },
  {
   "cell_type": "markdown",
   "metadata": {},
   "source": [
    "**Make sure you have `BASE_DIR / \"templates` added to `TEMPLATES` in Project Settings.**\n"
   ]
  },
  {
   "cell_type": "code",
   "execution_count": null,
   "metadata": {},
   "outputs": [],
   "source": [
    "from MyProject.MyProject.settings import *\n",
    "\n",
    "TEMPLATES = [\n",
    "    {\n",
    "        'BACKEND': 'django.template.backends.django.DjangoTemplates',\n",
    "        'DIRS': [\n",
    "            BASE_DIR / \"templates\",\n",
    "        ],\n",
    "        'APP_DIRS': True,\n",
    "        \n",
    "        # The rest of the dictionary.\n",
    "    },\n",
    "]"
   ]
  },
  {
   "cell_type": "markdown",
   "metadata": {
    "vscode": {
     "languageId": "html"
    }
   },
   "source": [
    "When master template is set up, it's time to move to the `/MyProject/app1/templates/app1/index.html` or any other HTML file you desire.`"
   ]
  },
  {
   "cell_type": "code",
   "execution_count": null,
   "metadata": {
    "vscode": {
     "languageId": "html"
    }
   },
   "outputs": [],
   "source": [
    "{% extends \"master.html\" %} \n",
    "<!--\n",
    "    The file will automatically find master.html \n",
    "    if the master template directory is added to project\n",
    "-->\n",
    "\n",
    "{% block page_title %} App1 {% endblock page_title %}\n",
    "\n",
    "{% block content %}\n",
    "    <h1>Extends Master Template!</h1>\n",
    "{% endblock content %}"
   ]
  },
  {
   "cell_type": "markdown",
   "metadata": {},
   "source": [
    "### Includes!\n",
    "\n",
    "You can store a slice of a HTML file to later reuse it in other parts of your project. By making a new folder in `/MyProject/app1/templates/app1/includes` in which you'll be having html files like this:"
   ]
  },
  {
   "cell_type": "code",
   "execution_count": null,
   "metadata": {
    "vscode": {
     "languageId": "html"
    }
   },
   "outputs": [],
   "source": [
    "<!--/MyProject/app1/templates/app1/includes/header.html-->\n",
    "<header>\n",
    "    <nav>\n",
    "        <a href=\"/\">click me!</a>\n",
    "    </nav>\n",
    "</header>"
   ]
  },
  {
   "cell_type": "markdown",
   "metadata": {},
   "source": [
    "You are now able to stick this slice to any part of the app1 pages using a Django Template Tag called `{% includ %}`"
   ]
  },
  {
   "cell_type": "code",
   "execution_count": null,
   "metadata": {
    "vscode": {
     "languageId": "html"
    }
   },
   "outputs": [],
   "source": [
    "<!--/MyProject/app1/templates/app1/index.html-->\n",
    "{% extends \"master.html\" %} \n",
    "<!--\n",
    "    The file will automatically find master.html \n",
    "    if the master template directory is added to project\n",
    "-->\n",
    "\n",
    "{% block page_title %} App1 {% endblock page_title %}\n",
    "\n",
    "<!-- ----- -->\n",
    "\n",
    "{% block content %}\n",
    "    <h1>Extends Master Template!</h1>\n",
    "    {% include \"app1/includes/header.html\" %}\n",
    "{% endblock content %}"
   ]
  },
  {
   "cell_type": "markdown",
   "metadata": {},
   "source": [
    "The include block supports sending data back to the reference HTML files, something like the `context` parameter that was sent to rendered HTML when using `render()` method."
   ]
  },
  {
   "cell_type": "code",
   "execution_count": null,
   "metadata": {
    "vscode": {
     "languageId": "html"
    }
   },
   "outputs": [],
   "source": [
    "    {% include \"app1/includes/header.html\" with context=\"Sent Data\"%}\n"
   ]
  },
  {
   "cell_type": "markdown",
   "metadata": {},
   "source": [
    "And back in the refrence HTML file `header.html`:"
   ]
  },
  {
   "cell_type": "code",
   "execution_count": null,
   "metadata": {
    "vscode": {
     "languageId": "html"
    }
   },
   "outputs": [],
   "source": [
    "<header>\n",
    "    <nav>\n",
    "        <h3>{{ context }}</h3>\n",
    "        <a href=\"/\">click me!</a>\n",
    "    </nav>\n",
    "</header>"
   ]
  },
  {
   "cell_type": "markdown",
   "metadata": {},
   "source": [
    "**Note: The syntax of Django Template Language is not highlited here, so it maked it pretty difficult to understand which words are keywords and whichones are values. So below you will file a list of so-far-used keywords in DTL. Nth beyond this list is a Keyword in DTL examples used so far.**\n",
    "\n",
    "- for / in\n",
    "- if / elif / else\n",
    "- block\n",
    "- include / with\n",
    "- endfor / endif / endblock ..."
   ]
  },
  {
   "cell_type": "markdown",
   "metadata": {},
   "source": [
    "### 404 Not Found!\n",
    "\n",
    "The not found page is one of the most common parts where you need to work with master templates. Look at this part as a practice for other things we learned so far. Let's dive right in.\n",
    "\n",
    "First off, we make the HTML file for our not found page somewhat like below, where do we make this file? of course in the master templates directory."
   ]
  },
  {
   "cell_type": "code",
   "execution_count": null,
   "metadata": {
    "vscode": {
     "languageId": "html"
    }
   },
   "outputs": [],
   "source": [
    "<!-- /MyProject/templates/404.html -->\n",
    "<!DOCTYPE html>\n",
    "<html lang=\"en\">\n",
    "<head>\n",
    "    <meta charset=\"UTF-8\">\n",
    "    <meta name=\"viewport\" content=\"width=device-width, initial-scale=1.0\">\n",
    "    <title>Document</title>\n",
    "</head>\n",
    "<body style=\"text-align: center; font-size: 100px;\">\n",
    "    <h1 style=\"line-height: 50px;\">404</h1>\n",
    "    <h3 style=\"font-size: 60px;\">Not Found!</h3>\n",
    "    \n",
    "    <h5>\n",
    "        {% block url %}\n",
    "            /\n",
    "        {% endblock url %} \n",
    "    </h5>\n",
    "</body>\n",
    "</html>"
   ]
  },
  {
   "cell_type": "markdown",
   "metadata": {},
   "source": [
    "Then, it's time to make a view that renders this page."
   ]
  },
  {
   "cell_type": "code",
   "execution_count": null,
   "metadata": {},
   "outputs": [],
   "source": [
    "from django.template.loader import render_to_string\n",
    "from django.http import HttpResponseNotFound\n",
    "\n",
    "def not_found(request, dynamic):\n",
    "    response = render_to_string('404.html') # Another way was to extend the HTML file and user render().\n",
    "    return HttpResponseNotFound(response)"
   ]
  },
  {
   "cell_type": "markdown",
   "metadata": {},
   "source": [
    "Finally, add a Dynamic Address URL to the `urlpatterns`."
   ]
  },
  {
   "cell_type": "code",
   "execution_count": null,
   "metadata": {},
   "outputs": [],
   "source": [
    "from django.urls import path\n",
    "from MyProject.app1 import views\n",
    "\n",
    "urlpatterns = [\n",
    "    path(\"app1\", views.index, name=\"app1\"),\n",
    "    path(\"<dynamic>\", views.not_found, name=\"not_found\")\n",
    "]"
   ]
  },
  {
   "cell_type": "markdown",
   "metadata": {},
   "source": [
    "One cool thing here is that `django.http` has a built in exception called `Http404()` which could be raised in the `not_found()` view we made. This exception looks at mentioned URLs in project settings for a file named exactly `404.html`. and returns that file.\n",
    "\n",
    "**You won't see the result of `Http404()` exception in your project when you're in debug mode!**\n",
    "\n",
    "Literally everything about this exception shouts it's a best practice!\n",
    "\n",
    "---\n",
    "**Final Joke!**\n",
    "\n",
    "If you deploy your website in `Debug = True`, start packing your stuff right away and say goodbye tothe company!\n",
    "\n"
   ]
  }
 ],
 "metadata": {
  "kernelspec": {
   "display_name": "Python 3",
   "language": "python",
   "name": "python3"
  },
  "language_info": {
   "name": "python",
   "version": "3.12.4"
  }
 },
 "nbformat": 4,
 "nbformat_minor": 2
}
