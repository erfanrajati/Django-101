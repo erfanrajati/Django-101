{
 "cells": [
  {
   "cell_type": "markdown",
   "metadata": {},
   "source": [
    "# Master Template\n",
    "\n",
    "The idea of having separate templates for each django app is good but far from completely functional. That's because there are a ton of alike parts in a webpage that can be reused instead of re-implemented! \n",
    "\n",
    "You must already be familiar with the concept of Abstraction and Inheritance in OOP, good news is that we have something faily similar to those when it comes to django templates. \n",
    "\n",
    "You can have a set of HTML docs as the Master Template of your project. To do this, we only need to make a folder called `templates` at the project root. The hierarchy would look like this after the work is done."
   ]
  },
  {
   "cell_type": "code",
   "execution_count": null,
   "metadata": {
    "vscode": {
     "languageId": "plaintext"
    }
   },
   "outputs": [],
   "source": [
    "/MyProject\n",
    "    /MyProject\n",
    "        <files.py>\n",
    "    \n",
    "    /app1\n",
    "        /templates\n",
    "            /app1\n",
    "                index.html\n",
    "        <files.py>\n",
    "    \n",
    "    /app2\n",
    "        /templates\n",
    "            /app2\n",
    "                index.html\n",
    "        <files.py>\n",
    "\n",
    "    /templates                  # Master Template!\n",
    "        master.html"
   ]
  },
  {
   "cell_type": "markdown",
   "metadata": {},
   "source": [
    "You'll notice the file called `master.html` in the `templates` directory that includes anything your website has among different pages (most of the pages). Like the intersection for most of html files in the project hierarchy. Not only that, you must also add a Django Template Tag called `block` in any place that might be overrided in project apps. Take a look:"
   ]
  },
  {
   "cell_type": "code",
   "execution_count": null,
   "metadata": {
    "vscode": {
     "languageId": "html"
    }
   },
   "outputs": [],
   "source": [
    "<!DOCTYPE html>\n",
    "<html lang=\"en\">\n",
    "<head>\n",
    "    <meta charset=\"UTF-8\">\n",
    "    <meta name=\"viewport\" content=\"width=device-width, initial-scale=1.0\">\n",
    "    <title>\n",
    "        {% block page_title %} <!--page_title is like a variable name for this block-->\n",
    "            Default Page Title\n",
    "        {% endblock page_title %}\n",
    "    </title> \n",
    "</head>\n",
    "    <body>\n",
    "        {% block content %}\n",
    "\n",
    "        {% endblock content %}\n",
    "    </body>\n",
    "</html>"
   ]
  },
  {
   "cell_type": "markdown",
   "metadata": {},
   "source": [
    "**Make sure you have `BASE_DIR / \"templates` added to `TEMPLATES` in Project Settings.**\n"
   ]
  },
  {
   "cell_type": "code",
   "execution_count": null,
   "metadata": {},
   "outputs": [],
   "source": [
    "from MyProject.MyProject.settings import *\n",
    "\n",
    "TEMPLATES = [\n",
    "    {\n",
    "        'BACKEND': 'django.template.backends.django.DjangoTemplates',\n",
    "        'DIRS': [\n",
    "            BASE_DIR / \"templates\",\n",
    "        ],\n",
    "        'APP_DIRS': True,\n",
    "        \n",
    "        # The rest of the dictionary.\n",
    "    },\n",
    "]"
   ]
  },
  {
   "cell_type": "markdown",
   "metadata": {
    "vscode": {
     "languageId": "html"
    }
   },
   "source": [
    "When master template is set up, it's time to move to the `/MyProject/app1/templates/app1/index.html` or any other HTML file you desire.`"
   ]
  },
  {
   "cell_type": "code",
   "execution_count": null,
   "metadata": {
    "vscode": {
     "languageId": "html"
    }
   },
   "outputs": [],
   "source": [
    "{% extends \"master.html\" %} \n",
    "<!--\n",
    "    The file will automatically find master.html \n",
    "    if the master template directory is added to project\n",
    "-->\n",
    "\n",
    "{% block page_title %} App1 {% endblock page_title %}\n",
    "\n",
    "{% block content %}\n",
    "    <h1>Extends Master Template!</h1>\n",
    "{% endblock content %}"
   ]
  },
  {
   "cell_type": "markdown",
   "metadata": {},
   "source": [
    "### Includes!\n",
    "\n",
    "You can store a slice of a HTML file to later reuse it in other parts of your project. By making a new folder in `/MyProject/app1/templates/app1/includes` in which you'll be having html files like this:"
   ]
  },
  {
   "cell_type": "code",
   "execution_count": null,
   "metadata": {
    "vscode": {
     "languageId": "html"
    }
   },
   "outputs": [],
   "source": [
    "<!--/MyProject/app1/templates/app1/includes/header.html-->\n",
    "<header>\n",
    "    <nav>\n",
    "        <a href=\"/\">click me!</a>\n",
    "    </nav>\n",
    "</header>"
   ]
  },
  {
   "cell_type": "markdown",
   "metadata": {},
   "source": [
    "You are now able to stick this slice to any part of the app1 pages using a Django Template Tag called `{% includ %}`"
   ]
  },
  {
   "cell_type": "code",
   "execution_count": null,
   "metadata": {
    "vscode": {
     "languageId": "html"
    }
   },
   "outputs": [],
   "source": [
    "<!--/MyProject/app1/templates/app1/index.html-->\n",
    "{% extends \"master.html\" %} \n",
    "<!--\n",
    "    The file will automatically find master.html \n",
    "    if the master template directory is added to project\n",
    "-->\n",
    "\n",
    "{% block page_title %} App1 {% endblock page_title %}\n",
    "\n",
    "<!-- ----- -->\n",
    "\n",
    "{% block content %}\n",
    "    <h1>Extends Master Template!</h1>\n",
    "    {% include \"app1/includes/header.html\" %}\n",
    "{% endblock content %}"
   ]
  },
  {
   "cell_type": "markdown",
   "metadata": {},
   "source": [
    "The include block supports sending data back to the reference HTML files, something like the `context` parameter that was sent to rendered HTML when using `render()` method."
   ]
  },
  {
   "cell_type": "code",
   "execution_count": null,
   "metadata": {
    "vscode": {
     "languageId": "html"
    }
   },
   "outputs": [],
   "source": [
    "    {% include \"app1/includes/header.html\" with context=\"Sent Data\"%}\n"
   ]
  },
  {
   "cell_type": "markdown",
   "metadata": {},
   "source": [
    "And back in the refrence HTML file `header.html`:"
   ]
  },
  {
   "cell_type": "code",
   "execution_count": null,
   "metadata": {
    "vscode": {
     "languageId": "html"
    }
   },
   "outputs": [],
   "source": [
    "<header>\n",
    "    <nav>\n",
    "        <h3>{{ context }}</h3>\n",
    "        <a href=\"/\">click me!</a>\n",
    "    </nav>\n",
    "</header>"
   ]
  },
  {
   "cell_type": "markdown",
   "metadata": {},
   "source": [
    "**Note: The syntax of Django Template Language is not highlited here, so it maked it pretty difficult to understand which words are keywords and whichones are values. So below you will file a list of so-far-used keywords in DTL. Nth beyond this list is a Keyword in DTL examples used so far.**\n",
    "\n",
    "- for / in\n",
    "- if / elif / else\n",
    "- block\n",
    "- include / with\n",
    "- endfor / endif / endblock ..."
   ]
  }
 ],
 "metadata": {
  "language_info": {
   "name": "python"
  }
 },
 "nbformat": 4,
 "nbformat_minor": 2
}
