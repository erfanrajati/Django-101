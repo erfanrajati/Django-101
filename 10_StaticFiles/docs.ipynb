{
 "cells": [
  {
   "cell_type": "markdown",
   "metadata": {},
   "source": [
    "# Static Files (CSS, JS, mp4, jpg, ...)\n",
    "\n",
    "To add static files like styles and scripts, we need to follow the same path as when we wanted to make templates. Inside the app directory we make a folder called `static` and inside it we add anotherfolder named the same as our app. The hierarchy for this project is shown below."
   ]
  },
  {
   "cell_type": "code",
   "execution_count": null,
   "metadata": {
    "vscode": {
     "languageId": "plaintext"
    }
   },
   "outputs": [],
   "source": [
    "/MyProject\n",
    "    /MyProject\n",
    "    /user\n",
    "        /templates/user\n",
    "            index.html\n",
    "        /static/user\n",
    "            styles.css\n",
    "            scripts.js"
   ]
  },
  {
   "cell_type": "markdown",
   "metadata": {},
   "source": [
    "**Make sure you have `django.contrib.staticfiles` added to project settings**"
   ]
  },
  {
   "cell_type": "code",
   "execution_count": null,
   "metadata": {},
   "outputs": [],
   "source": [
    "INSTALLED_APPS = [\n",
    "    'django.contrib.staticfiles',\n",
    "]"
   ]
  },
  {
   "cell_type": "markdown",
   "metadata": {
    "vscode": {
     "languageId": "plaintext"
    }
   },
   "source": [
    "The set up for this project is fairly simple. We have a Master Template file with basic HTML element, the `index.html` at user directory extends it and adds a \"User Page\" h1 title. the `styles.css` holds a background-color for the body element, the `scripts.js` holds a function called `hello()` which logs \"Hello, World!\" in console. Now let's see how we can render the styles and scripts alongside html!\n",
    "\n",
    "First off, take a look at project settings, you'll find something like this:"
   ]
  },
  {
   "cell_type": "code",
   "execution_count": null,
   "metadata": {},
   "outputs": [],
   "source": [
    "STATIC_URL = 'static/'"
   ]
  },
  {
   "cell_type": "markdown",
   "metadata": {},
   "source": [
    "Now let's take a closer look to the Master Template & HTML file we want to render with styles:"
   ]
  },
  {
   "cell_type": "code",
   "execution_count": null,
   "metadata": {
    "vscode": {
     "languageId": "html"
    }
   },
   "outputs": [],
   "source": [
    "<!-- master.html -->\n",
    "<!DOCTYPE html>\n",
    "<html lang=\"en\">\n",
    "<head>\n",
    "    <meta charset=\"UTF-8\">\n",
    "    <meta name=\"viewport\" content=\"width=device-width, initial-scale=1.0\">\n",
    "    {% block head_ref %}{% endblock head_ref %}\n",
    "    <title>{% block page_title %}Document{% endblock page_title %}</title>\n",
    "</head>\n",
    "<body>\n",
    "    {% block body %} {% endblock body %}\n",
    "</body>\n",
    "</html>"
   ]
  },
  {
   "cell_type": "code",
   "execution_count": null,
   "metadata": {
    "vscode": {
     "languageId": "html"
    }
   },
   "outputs": [],
   "source": [
    "<!-- index.html -->\n",
    "{% extends \"master.html\" %}\n",
    "{% load static %} <!-- Pay attention to load -->\n",
    "\n",
    "{% block head_ref %}\n",
    "    <link rel=\"stylesheet\" href=\"{% static 'user/styles.css' %}\">\n",
    "{% endblock head_ref %}\n",
    "\n",
    "\n",
    "{% block page_title %}\n",
    "User\n",
    "{% endblock page_title %}\n",
    "\n",
    "{% block body %}\n",
    "<h1>\n",
    "    User Page\n",
    "</h1>\n",
    "{% endblock body %}"
   ]
  },
  {
   "cell_type": "markdown",
   "metadata": {},
   "source": [
    "And that'll do the work. \n",
    "\n",
    "One not so tiny detail here is that the number of HTML and CSS files increase massively as the project grows. It is very important how they are foldered and named. Basically the entire project hierarchy is one crutial thing to keep in mind. Below you'll find an AI generated documentation of how a standard Django Project Hierarchy must look like."
   ]
  },
  {
   "cell_type": "markdown",
   "metadata": {},
   "source": [
    "# Best Practices for Naming and Organizing Files\n",
    "\n",
    "1. **Use Consistent and Descriptive Names**\n",
    "   - Name files clearly based on their purpose or the feature they support.\n",
    "   - Avoid overly generic names like `styles.css` or `script.js`.\n",
    "\n",
    "2. **Keep Files Organized by App**\n",
    "   - Group files by app to maintain modularity.\n",
    "   - Place static files (CSS/JS/images) in a `static` directory within each app.\n",
    "   - Place templates (HTML files) in a `templates` directory within each app.\n",
    "\n",
    "3. **Namespace Static Files**\n",
    "   - Use subfolders or prefixes to avoid filename collisions (e.g., `css/base.css` or `js/admin.js`).\n",
    "\n",
    "4. **Leverage the Django Template and Static Structure**\n",
    "   - For templates, keep files under the `templates/<app_name>/` directory.\n",
    "   - For static files, keep them under `static/<app_name>/`."
   ]
  },
  {
   "cell_type": "markdown",
   "metadata": {
    "vscode": {
     "languageId": "html"
    }
   },
   "source": [
    "### **Example Project Structure**\n",
    "\n",
    "Here’s a scalable Django project directory structure:"
   ]
  },
  {
   "cell_type": "markdown",
   "metadata": {},
   "source": [
    "Let’s work through a real-world example of a Django project. Let’s imagine we’re building a **Learning Management System (LMS)**, with features like managing courses, user profiles, and discussions."
   ]
  },
  {
   "cell_type": "code",
   "execution_count": null,
   "metadata": {
    "vscode": {
     "languageId": "ini"
    }
   },
   "outputs": [],
   "source": [
    "lms_project/\n",
    "├── manage.py\n",
    "├── lms_project/                     # Project settings directory\n",
    "│   ├── __init__.py\n",
    "│   ├── asgi.py\n",
    "│   ├── settings.py                 # Project settings\n",
    "│   ├── urls.py                     # Root URL configuration\n",
    "│   ├── wsgi.py\n",
    "├── requirements.txt                # Dependencies\n",
    "├── static/                         # Global/static files (shared assets)\n",
    "│   ├── css/\n",
    "│   │   ├── global.css              # Global styles for the entire project\n",
    "│   ├── js/\n",
    "│   │   ├── global.js               # Shared JavaScript logic\n",
    "│   ├── images/\n",
    "│   │   ├── favicon.ico             # Shared favicon\n",
    "├── templates/                      # Shared/global templates\n",
    "│   ├── master.html                   # Global base template for the whole project\n",
    "│   ├── 404.html                    # Custom 404 page\n",
    "│   ├── navbar.html                 # Shared navbar template\n",
    "├── courses/                        # App for managing courses\n",
    "│   ├── __init__.py\n",
    "│   ├── admin.py\n",
    "│   ├── apps.py\n",
    "│   ├── migrations/\n",
    "│   │   ├── __init__.py\n",
    "│   ├── models.py                   # Models for courses\n",
    "│   ├── static/                     # Static files for the courses app\n",
    "│   │   ├── courses/                # Namespace for app-specific static files\n",
    "│   │   │   ├── css/\n",
    "│   │   │   │   ├── courses.css     # Styles for the courses section\n",
    "│   │   │   ├── js/\n",
    "│   │   │   │   ├── courses.js      # JavaScript for course interactions\n",
    "│   │   │   ├── images/\n",
    "│   │   │   │   ├── course_banner.jpg\n",
    "│   ├── templates/                  # Templates for the courses app\n",
    "│   │   ├── courses/                # Namespace for templates\n",
    "│   │   │   ├── base.html           # Base template for course pages\n",
    "│   │   │   ├── course_list.html    # Page listing all courses\n",
    "│   │   │   ├── course_detail.html  # Individual course page\n",
    "│   ├── tests.py\n",
    "│   ├── urls.py                     # URLs specific to courses\n",
    "│   ├── views.py                    # Views for course functionality\n",
    "├── users/                          # App for managing user profiles\n",
    "│   ├── __init__.py\n",
    "│   ├── admin.py\n",
    "│   ├── apps.py\n",
    "│   ├── migrations/\n",
    "│   │   ├── __init__.py\n",
    "│   ├── models.py                   # Models for user profiles\n",
    "│   ├── static/                     # Static files for the users app\n",
    "│   │   ├── users/                  # Namespace for app-specific static files\n",
    "│   │   │   ├── css/\n",
    "│   │   │   │   ├── profile.css     # Styles for user profile pages\n",
    "│   │   │   ├── js/\n",
    "│   │   │   │   ├── profile.js      # JavaScript for user profile actions\n",
    "│   │   │   ├── images/\n",
    "│   │   │   │   ├── avatar_default.png\n",
    "│   ├── templates/                  # Templates for the users app\n",
    "│   │   ├── users/                  # Namespace for templates\n",
    "│   │   │   ├── login.html          # User login page\n",
    "│   │   │   ├── signup.html         # User signup page\n",
    "│   │   │   ├── profile.html        # User profile page\n",
    "│   ├── tests.py\n",
    "│   ├── urls.py                     # URLs specific to users\n",
    "│   ├── views.py                    # Views for user functionality\n",
    "├── discussions/                    # App for managing discussions\n",
    "│   ├── __init__.py\n",
    "│   ├── admin.py\n",
    "│   ├── apps.py\n",
    "│   ├── migrations/\n",
    "│   │   ├── __init__.py\n",
    "│   ├── models.py                   # Models for discussion threads and comments\n",
    "│   ├── static/                     # Static files for the discussions app\n",
    "│   │   ├── discussions/            # Namespace for app-specific static files\n",
    "│   │   │   ├── css/\n",
    "│   │   │   │   ├── discussions.css # Styles for discussion pages\n",
    "│   │   │   ├── js/\n",
    "│   │   │   │   ├── discussions.js  # JavaScript for discussion interactions\n",
    "│   │   │   ├── images/\n",
    "│   │   │   │   ├── thread_icon.png\n",
    "│   ├── templates/                  # Templates for the discussions app\n",
    "│   │   ├── discussions/            # Namespace for templates\n",
    "│   │   │   ├── thread_list.html    # List of discussion threads\n",
    "│   │   │   ├── thread_detail.html  # Detail page for a single thread\n",
    "│   ├── tests.py\n",
    "│   ├── urls.py                     # URLs specific to discussions\n",
    "│   ├── views.py                    # Views for discussion functionality"
   ]
  },
  {
   "cell_type": "markdown",
   "metadata": {},
   "source": [
    "\n",
    "### **Key Features of this Structure**\n",
    "1. **Realistic App Names**\n",
    "   - Each app corresponds to a real feature of the LMS (e.g., `courses`, `users`, `discussions`).\n",
    "\n",
    "2. **App-Specific Organization**\n",
    "   - Each app has its own `static` and `templates` directories, and files are namespaced to avoid conflicts. For example:\n",
    "     - `static/courses/css/courses.css`\n",
    "     - `templates/courses/course_list.html`\n",
    "\n",
    "3. **Global vs. App-Specific Assets**\n",
    "   - **Global assets** like `global.css`, `global.js`, and `base.html` are stored in top-level `static/` and `templates/` directories.\n",
    "   - **App-specific assets** are kept within the app's `static/` and `templates/` directories.\n",
    "\n",
    "4. **URL Modularization**\n",
    "   - Each app has its own `urls.py` file, which is included in the main `urls.py` using Django's `include()` function. For example:\n",
    "     ```python\n",
    "     from django.urls import path, include\n",
    "     \n",
    "     urlpatterns = [\n",
    "         path('courses/', include('courses.urls')),\n",
    "         path('users/', include('users.urls')),\n",
    "         path('discussions/', include('discussions.urls')),\n",
    "     ]\n",
    "     ```\n",
    "\n",
    "5. **Ease of Scaling**\n",
    "   - If a new feature, such as notifications, needs to be added, you can simply create a `notifications` app with its own static files and templates."
   ]
  },
  {
   "cell_type": "markdown",
   "metadata": {},
   "source": [
    "Thanks to ChatGPT for providing that knowledge, note that a lot of the things you see in here might be too advanced just for now. They'll come clear soon enough."
   ]
  },
  {
   "cell_type": "markdown",
   "metadata": {},
   "source": [
    "### Master Static Files\n",
    "\n",
    "Just like the master template, you can have a master style for your project. We did this in the current project by making a folder at the project root `/MyProject/static`. in which we'll store master styles.\n",
    "\n",
    "In that folder we added a `master.css` file in which we made the page font-family to `Courier New`. Now we must add the mentioned css file to the `master.html` file we made earlier."
   ]
  },
  {
   "cell_type": "code",
   "execution_count": null,
   "metadata": {
    "vscode": {
     "languageId": "html"
    }
   },
   "outputs": [],
   "source": [
    "{% load static %}\n",
    "\n",
    "<!DOCTYPE html>\n",
    "<html lang=\"en\">\n",
    "<head>\n",
    "    <meta charset=\"UTF-8\">\n",
    "    <meta name=\"viewport\" content=\"width=device-width, initial-scale=1.0\">\n",
    "    <link rel=\"stylesheet\" href=\"{% static 'master.css' %}\">\n",
    "    {% block head_ref %}{% endblock head_ref %}\n",
    "    <title>{% block page_title %}Document{% endblock page_title %}</title>\n",
    "</head>\n",
    "<body>\n",
    "    {% block body %} {% endblock body %}\n",
    "</body>\n",
    "</html>"
   ]
  },
  {
   "cell_type": "markdown",
   "metadata": {},
   "source": [
    "One last step is to add the global static files directory to the project settings like this:"
   ]
  },
  {
   "cell_type": "code",
   "execution_count": null,
   "metadata": {},
   "outputs": [],
   "source": [
    "from MyProject.MyProject.settings import BASE_DIR\n",
    "\n",
    "STATIC_URL = 'static/'\n",
    "STATICFILES_DIRS = [\n",
    "    BASE_DIR / 'static'\n",
    "]"
   ]
  }
 ],
 "metadata": {
  "language_info": {
   "name": "python"
  }
 },
 "nbformat": 4,
 "nbformat_minor": 2
}
