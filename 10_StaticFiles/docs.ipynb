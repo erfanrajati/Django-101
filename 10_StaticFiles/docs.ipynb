{
 "cells": [
  {
   "cell_type": "markdown",
   "metadata": {},
   "source": [
    "# Static Files (CSS, JS, mp4, jpg, ...)\n",
    "\n",
    "To add static files like styles and scripts, we need to follow the same path as when we wanted to make templates. Inside the app directory we make a folder called `static` and inside it we add anotherfolder named the same as our app. The hierarchy for this project is shown below."
   ]
  },
  {
   "cell_type": "code",
   "execution_count": null,
   "metadata": {
    "vscode": {
     "languageId": "plaintext"
    }
   },
   "outputs": [],
   "source": [
    "/MyProject\n",
    "    /MyProject\n",
    "    /user\n",
    "        /templates/user\n",
    "            index.html\n",
    "        /static/user\n",
    "            styles.css\n",
    "            scripts.js"
   ]
  },
  {
   "cell_type": "markdown",
   "metadata": {},
   "source": [
    "**Make sure you have `django.contrib.staticfiles` added to project settings**"
   ]
  },
  {
   "cell_type": "code",
   "execution_count": null,
   "metadata": {},
   "outputs": [],
   "source": [
    "INSTALLED_APPS = [\n",
    "    'django.contrib.staticfiles',\n",
    "]"
   ]
  },
  {
   "cell_type": "markdown",
   "metadata": {
    "vscode": {
     "languageId": "plaintext"
    }
   },
   "source": [
    "The set up for this project is fairly simple. We have a Master Template file with basic HTML element, the `index.html` at user directory extends it and adds a \"User Page\" h1 title. the `styles.css` holds a background-color for the body element, the `scripts.js` holds a function called `hello()` which logs \"Hello, World!\" in console. Now let's see how we can render the styles and scripts alongside html!"
   ]
  }
 ],
 "metadata": {
  "language_info": {
   "name": "python"
  }
 },
 "nbformat": 4,
 "nbformat_minor": 2
}
