{
 "cells": [
  {
   "cell_type": "markdown",
   "metadata": {},
   "source": [
    "# Database\n",
    "\n",
    "No need to explain the importance of this section if you're like me! Database is the core of every real life project out there. In a real website, there will be a ton of data spreading around, form submisions, user credentials, pictures, posts, etc. All of them play a signifact role in website porgramming. The thing is that just like every other concept in programming, it's faily easy to get messed up.\n",
    "\n",
    "Here comes the Database, a fundamental idea of controlling the storage of data in software engineering, whether it's a website, an app, a cloud based service, Database plays a huge role. With that said, let's get to work!\n",
    "\n",
    "\n",
    "### Types of Data\n",
    "\n",
    "1. Temporary Data: This data is stored in the memory. As soon as the app proces is killed, this data is deleted from memory and needs to be reloaded. Like the python list we made in the previous project for our blog posts.\n",
    "\n",
    "2. Semi-Temporary Data: Coockies, Sessions, etc. This data is stored in the browser cache for a short time.\n",
    "\n",
    "3. Presistent Data: All the data that you need to hold onto for a long time. This type of data is store in the website database; which could be a SQL database or a non-SQL database. This tutorial follows the SQL databases and their interaction with Django.\n",
    "\n",
    "You'll see that as soon as you run your project for the first time, a Database file is generate at your project root called `db.sqlite3`. Note that you can add this on your own but make sure you name it the same as what you see in `settings.py > DATABASES`. Long story short, sqlite is a light-weight database which is perfect for small project. However, MySQL is the more advanced alternative which we'll talk about later on."
   ]
  },
  {
   "cell_type": "markdown",
   "metadata": {},
   "source": [
    "### Object Relational Mapping (ORM)\n",
    "\n",
    "Of course it's necessary to learn SQL when you wanna work with SQL databases. But the good news is that it's not!\n",
    "\n",
    "Depending on the Back-End framework you use, it might have a built in **Object Relational Mapping (ORM)** system which translates the code you write in that languge to SQL. hence, although recommended, it's not crucial to learn SQL to get some hands-on database experience.\n",
    "\n",
    "Django is no exception. Essentially, Django is a **Model Template View** frame work. Meaning that all of the process Django does is categoriezed in one of those three. We are already familiar with Template and View, which were in charge of getting the user request and rendering the response view. Models however, are the core idea behind presistant data."
   ]
  },
  {
   "cell_type": "markdown",
   "metadata": {},
   "source": [
    "### Django Models\n",
    "\n",
    "We will follow our tutorial during a hands-on online shop project. Let's just build a solid Django App and call it products, then, pay attention to `models.py` file there."
   ]
  },
  {
   "cell_type": "code",
   "execution_count": null,
   "metadata": {},
   "outputs": [],
   "source": [
    "from django.db import models\n",
    "\n",
    "# Create your models here."
   ]
  },
  {
   "cell_type": "markdown",
   "metadata": {},
   "source": [
    "This is where we implement schemas of our database. Each Database containes different tables (also called Relations), each column of each table is an attribute of that table. Each row of each table is called a record. For example, we would have a User table who's columns would be: id, username, password, age, etc. and one row of that table would look like this: 1, erfanrajati, -password-, 22, etc. \n",
    "\n",
    "To create a database schema we need to remember all the things we learned from Object Oriented Programming. We must first research the business we're making a website for in order to figure out which entities there is. Each entitiy is implementd using a Python class and later on translated to an SQL relation (table) in the database.\n",
    "\n",
    "**Note: The idea of designing the proper database schema for the business is one hell of a topic. And far from the purpose of learning vanilla django. In a software company, usually the role of Back-End developer is seperated from the Database Admin. But if you plan on becomming a professional Back-End engineer, it is crutial to put more focus on you database skills later on.**\n",
    "\n",
    "Anyway, let's create a simple Model shall we?"
   ]
  },
  {
   "cell_type": "code",
   "execution_count": null,
   "metadata": {},
   "outputs": [],
   "source": [
    "class Product(models.Model):\n",
    "    # Attributes\n",
    "    title = models.CharField(max_length=150)\n",
    "    price = models.IntegerField()\n"
   ]
  },
  {
   "cell_type": "markdown",
   "metadata": {},
   "source": [
    "Same as making a class in Vanilla Python, but with a tiny difference: Inheriting attributes and methods from `Model` class in `django.db.model`. If you have worked with SQL before, you know that when creating a table, it is needed to specify some informatoin of the type of data for each table column. It's all the same here, by looking at [Django Model Reference](https://docs.djangoproject.com/en/5.1/ref/models/fields/), you'll find detailed information about the information that you can or must specify where creating a model.\n",
    "\n",
    "One common attribute of almost every relation is it's **id** column. Which is unique among all records in that relation and so is used to fetch specific records from that relation. That column is called **Primary Key**. Django Model class includes this attribute by default so you don't need to make it, you just need to be awar of it.\n",
    "\n",
    "By doing what we did above, we have made a model, but the `db.sqlite3` file, which is our database file, is not altered. To see how we can apply this newly made model to our database, we must learn about Migration."
   ]
  },
  {
   "cell_type": "markdown",
   "metadata": {},
   "source": [
    "### Migration\n",
    "\n",
    "Each time you update the schema in `models.py` file, the changes must apply to the database. The following command is one of the steps in doing so.\n",
    "```bash\n",
    "python manage.py makemigrations\n",
    "```\n",
    "This command will execute a script to read all the newly made models and alterations to previous ones, translates them to SQL and makes a migrations class based on those at `MyProject/products/migrations` directory. An expected output for `makemigrations` command would be as follows:"
   ]
  },
  {
   "cell_type": "raw",
   "metadata": {
    "vscode": {
     "languageId": "raw"
    }
   },
   "source": [
    "Migrations for 'products':\n",
    "  products\\migrations\\0001_initial.py\n",
    "    + Create model Product"
   ]
  },
  {
   "cell_type": "markdown",
   "metadata": {},
   "source": [
    "After the command is executed, you'll find a python file named `0001_initial.py` at the migrations directory which would look something like this:"
   ]
  },
  {
   "cell_type": "code",
   "execution_count": null,
   "metadata": {},
   "outputs": [],
   "source": [
    "# Generated by Django 5.1.4 on 2025-02-08 20:13\n",
    "\n",
    "from django.db import migrations, models\n",
    "\n",
    "\n",
    "class Migration(migrations.Migration):\n",
    "\n",
    "    initial = True\n",
    "\n",
    "    dependencies = [\n",
    "    ]\n",
    "\n",
    "    operations = [\n",
    "        migrations.CreateModel(\n",
    "            name='Product',\n",
    "            fields=[\n",
    "                ('id', models.BigAutoField(auto_created=True, primary_key=True, serialize=False, verbose_name='ID')),\n",
    "                ('title', models.CharField(max_length=150)),\n",
    "                ('price', models.IntegerField()),\n",
    "            ],\n",
    "        ),\n",
    "    ]"
   ]
  },
  {
   "cell_type": "markdown",
   "metadata": {},
   "source": [
    "Note that our `db.sqlite3` file is not changed yet! The `makemigrations` command was a middle step of the entire database migration process. The next one is to run this:\n",
    "```bash\n",
    "python manage.py migrate\n",
    "```\n",
    "\n",
    "Which will apply all the changes to the database base on the `0001_initial.py` file. & a bunch of other files in the background. An expected output of this command **if it is ran for the first time**, would be as follows:"
   ]
  },
  {
   "cell_type": "raw",
   "metadata": {
    "vscode": {
     "languageId": "raw"
    }
   },
   "source": [
    "Applying contenttypes.0001_initial... OK\n",
    "Applying auth.0001_initial... OK\n",
    "Applying admin.0001_initial... OK\n",
    "Applying admin.0002_logentry_remove_auto_add... OK\n",
    "Applying admin.0003_logentry_add_action_flag_choices... OK\n",
    "Applying contenttypes.0002_remove_content_type_name... OK\n",
    "Applying auth.0002_alter_permission_name_max_length... OK\n",
    "Applying auth.0003_alter_user_email_max_length... OK\n",
    "Applying auth.0004_alter_user_username_opts... OK\n",
    "Applying auth.0005_alter_user_last_login_null... OK\n",
    "Applying auth.0006_require_contenttypes_0002... OK\n",
    "Applying auth.0007_alter_validators_add_error_messages... OK\n",
    "Applying auth.0008_alter_user_username_max_length... OK\n",
    "Applying auth.0009_alter_user_last_name_max_length... OK\n",
    "Applying auth.0010_alter_group_name_max_length... OK\n",
    "Applying auth.0011_update_proxy_permissions... OK\n",
    "Applying auth.0012_alter_user_first_name_max_length... OK\n",
    "Applying products.0001_initial... OK\n",
    "Applying sessions.0001_initial... OK"
   ]
  },
  {
   "cell_type": "markdown",
   "metadata": {},
   "source": [
    "As you can see, there are a lot of migration files here, most of which we have no idea what they do! You'll see a bunch of tables and records inside those tables. The one we made is now called `products_product` which is made by the app name + model name. Remember there was some list called `INSTALLED_APPS` in project settings? Well it included a lot of apps, each one of those apps require migrations. The schema those apps wanted to apply relate to a variety of things, User models, Admin permissions, etc. If you have some way of viewing `.sqlite3` files, you can now open the `db.sqlite3` file to see what has happened.\n",
    "\n",
    "So far we've learned how to make a database and add relations to it, in the next topic we'll begin applying CRUD (Create, Read, Update, Delete) records on the database. Before that however, let's get some help from ChatGPT with one faily important question:\n",
    "\n",
    "```raw\n",
    "Question: About Django management shell, should I always run migrate right after makemigrations?\n",
    "```\n",
    "\n",
    "---"
   ]
  },
  {
   "cell_type": "markdown",
   "metadata": {},
   "source": [
    "#### ✅ When You Should Run `migrate` Right After `makemigrations`\n",
    "1. **Local Development:**  \n",
    "   - If you’re actively working on your project and making model changes, running `migrate` right after `makemigrations` keeps your database schema up to date.  \n",
    "   - Example:  \n",
    "     ```bash\n",
    "     python manage.py makemigrations\n",
    "     python manage.py migrate\n",
    "     ```\n",
    "  \n",
    "2. **Deploying to Production:**  \n",
    "   - When deploying a Django app, you typically run `makemigrations` in development, commit the migration files, and then run `migrate` on the production server to apply the changes.  \n",
    "   - Example (on the server):  \n",
    "     ```bash\n",
    "     python manage.py migrate --noinput\n",
    "     ```\n",
    "\n",
    "#### 🚀 When You Should NOT Run `migrate` Immediately\n",
    "1. **If You Need to Review the Migrations First:**  \n",
    "   - Sometimes, running `makemigrations` creates unexpected migrations (e.g., Django auto-generates a migration you didn’t intend).  \n",
    "   - You can **check the migration file** before applying it:\n",
    "     ```bash\n",
    "     python manage.py sqlmigrate app_name 0001\n",
    "     ```\n",
    "     This shows the SQL commands Django would run.\n",
    "\n",
    "2. **If You Need to Manually Edit a Migration File:**  \n",
    "   - If the automatically generated migration isn’t quite right, you may want to **edit the file** before running `migrate`.\n",
    "\n",
    "3. **If You Are Working in a Team and Using Version Control:**  \n",
    "   - You might generate migrations (`makemigrations`), commit them, and let others apply them later (`migrate`).  \n",
    "   - This prevents conflicts when multiple developers work on the same database schema.\n",
    "\n",
    "#### 🎯 Best Practice in a Team\n",
    "1. **Developers run `makemigrations` locally** when changing models.\n",
    "2. **They commit the migration files** (so others don’t have to re-run `makemigrations`).\n",
    "3. **On production, the `migrate` command is run** to apply the changes.\n",
    "\n",
    "---"
   ]
  },
  {
   "cell_type": "markdown",
   "metadata": {},
   "source": [
    "### Database CRUD\n",
    "\n",
    "If you have some experience programming with text files (or any file for that matter), you are very well familiar with what **CRUD** is. When we're to have a permanent storage for our program, whether in a text file, JSON file, Excell file or simply a Database, it is crutial to know how to perform 4 fundamental actions:\n",
    "\n",
    "1. Create\n",
    "2. Read\n",
    "3. Update\n",
    "4. Delete\n",
    "\n",
    "Which abbreviate to CRUD. No matter what programming language or which type of data storage you're using, if you can do these, congrats! you know how to work with data!\n",
    "\n",
    "In terms of Django and SQL, performin CRUD is fairly easy. Let's start simple, if you run the following command in terminal, you'll have access to **Django Shell**. Which is a Shell, that is able to run Python code interactively."
   ]
  },
  {
   "cell_type": "code",
   "execution_count": null,
   "metadata": {
    "vscode": {
     "languageId": "shellscript"
    }
   },
   "outputs": [],
   "source": [
    "python manage.py shell"
   ]
  },
  {
   "cell_type": "markdown",
   "metadata": {},
   "source": [
    "- Note: if you're using a Python IDE like PyCharm, it is likely to have a **Python Console** which in a Django project, will work just the same as Django Shell\n",
    "\n",
    "This command will open a variation of `ipython` shell which is connected to Django directly; so it knows which apps you've made in your project and what code you wrote. Let's add a product (Create a record) to our database with this interactive shell shall we?"
   ]
  },
  {
   "cell_type": "raw",
   "metadata": {
    "vscode": {
     "languageId": "raw"
    }
   },
   "source": [
    "In [1]: from products.models import Product\n",
    "In [2]: new_prod = Product(title=\"iPhone 13\", price=799)"
   ]
  },
  {
   "cell_type": "markdown",
   "metadata": {
    "vscode": {
     "languageId": "raw"
    }
   },
   "source": [
    "Buy doing that, we have added a new record to memory, but not added to the database. Let's do that too!"
   ]
  },
  {
   "cell_type": "raw",
   "metadata": {
    "vscode": {
     "languageId": "raw"
    }
   },
   "source": [
    "In [3]: new_prod.save()"
   ]
  },
  {
   "cell_type": "markdown",
   "metadata": {},
   "source": [
    "Now take a look at `products_product` table in our database. Congratulations, you performed the Create action. Note that `Products` was a Python class initially which after migration, an entity was created in the database for that class which is the one you see now. Any object you make of this class, and then `save()`, it will automatically be added to `products_product` table.\n",
    "\n",
    "If you're struggling with seeing the database in a GUI based platform, you can use this command in Django Shell to see if the objects are added or not:"
   ]
  },
  {
   "cell_type": "raw",
   "metadata": {
    "vscode": {
     "languageId": "raw"
    }
   },
   "source": [
    "In [4]: Product.objects.all()\n",
    "Out[4]: <QuerySet [<Product: Product object (1)>]>"
   ]
  },
  {
   "cell_type": "markdown",
   "metadata": {},
   "source": [
    "**Note: the `Out[i]` line is the shell output.**\n",
    "\n",
    "This Django Shell things is actually a very powerfull debuggin tool for developers and software testers. It is recommended to play around with it to get the hang of it's capabilities. For example you can nerd things out but using you Vanilla Python knowledge to get more vivid data:"
   ]
  },
  {
   "cell_type": "raw",
   "metadata": {
    "vscode": {
     "languageId": "raw"
    }
   },
   "source": [
    "In [5]: for prod in Product.objects.all(): print(prod.title)\n",
    "iPhone 13"
   ]
  },
  {
   "cell_type": "markdown",
   "metadata": {},
   "source": [
    "Don't forget SQL commands here, you can connect to `db.sqlite3` in your terminal by running `sqlite3 db.sqlite3`, then you can run any SQL query you want.\n",
    "\n",
    "You are sure a great student and recall what **Polymorphism** was, the act of overriding and overloading a child class's methods and attributes. One significant build in method of Python classes was `__str__()`, which was ran as soon as you try to type cast objects of that class to *string*. Note that the `print()` method (and a lot of other thing) cast the given object to *string* in the back ground. With all that said, overriding `__str__()` in Django Models seem like a smart idea to begin with."
   ]
  },
  {
   "cell_type": "code",
   "execution_count": null,
   "metadata": {},
   "outputs": [],
   "source": [
    "class Product(models.Model):\n",
    "    # Attributes\n",
    "    title = models.CharField(max_length=150)\n",
    "    price = models.IntegerField()\n",
    "\n",
    "    # Overriding __str__ method\n",
    "    def __str__(self):\n",
    "        return f\"{self.title} {self.price}\""
   ]
  },
  {
   "cell_type": "markdown",
   "metadata": {},
   "source": [
    "Now if you go back to Django Shell and run `Products.objects.all()` command, you'll see much more intuitive results."
   ]
  },
  {
   "cell_type": "raw",
   "metadata": {
    "vscode": {
     "languageId": "raw"
    }
   },
   "source": [
    "In [2]: Product.objects.all()\n",
    "Out[2]: <QuerySet [<Product: iPhone 13 799>]>"
   ]
  },
  {
   "cell_type": "markdown",
   "metadata": {},
   "source": [
    "We already saw how to perform Create action on a database using Django Shell, in this topic we'll discuss how to perform other CRUD actions."
   ]
  },
  {
   "cell_type": "code",
   "execution_count": null,
   "metadata": {},
   "outputs": [],
   "source": [
    "first_prod = Product.objects.all()[0]                   # Read            \n",
    "first_prod.short_description = 'updated discription'    # Update\n",
    "first_prod.delete()                                     # Delete"
   ]
  },
  {
   "cell_type": "markdown",
   "metadata": {},
   "source": [
    "**_Update_ and _Delete_ actions require the `save()` command afterwards. Just like _Create_**\n",
    "\n",
    "Even though these seem easy enough to use, there is one better way to do so:\n",
    "```Python\n",
    "Product.objects.create(title='Something', price=1234, ...)\n",
    "```\n",
    "\n",
    "It's time to go a little more advanced about making Django Models and learn Django Model Validators."
   ]
  },
  {
   "cell_type": "markdown",
   "metadata": {},
   "source": [
    "### Django Model Validators\n",
    "\n",
    "Validators in Django are a significant subject (just like every other subject!), a Validator is essentially a method that checks if the given value fits the database schema or not. For Example, let's say we want each product to have a rating which has to be from 0 to 5, of course we can try to implement that using Vanilla Python but Django has a safer and easier way of doing that called `MinValueValidator` and `MaxValueValidator`.\n",
    "\n",
    "Let's start by importing the needed modules."
   ]
  },
  {
   "cell_type": "code",
   "execution_count": null,
   "metadata": {},
   "outputs": [],
   "source": [
    "# models.py\n",
    "\n",
    "from django.core.validators import MinValueValidator, MaxValueValidator"
   ]
  },
  {
   "cell_type": "markdown",
   "metadata": {},
   "source": [
    "And then we change our model. (And add some more things too!)"
   ]
  },
  {
   "cell_type": "code",
   "execution_count": null,
   "metadata": {},
   "outputs": [],
   "source": [
    "class Product(models.Model):\n",
    "    # Attributes\n",
    "    title = models.CharField(max_length=150)\n",
    "    price = models.IntegerField()\n",
    "    rating = models.IntegerField(validators=[MinValueValidator(0), MaxValueValidator(5)])\n",
    "    short_description = models.CharField(max_length=350)\n",
    "    is_active = models.BooleanField()\n",
    "\n",
    "    # Overriding __str__ method\n",
    "    def __str__(self):\n",
    "        return f\"{self.title} {self.price}\""
   ]
  },
  {
   "cell_type": "markdown",
   "metadata": {},
   "source": [
    "By running the `makemigrations` command you'll it throws a bunch of errors about default values. That is becuase we already have some records in the database which do not have the newly added columns or attributes so to speak. So we must add default values for each class attribute to be added to already existing records. This is best practice to add the default values for all attribute when declaring for the first time."
   ]
  },
  {
   "cell_type": "code",
   "execution_count": null,
   "metadata": {},
   "outputs": [],
   "source": [
    "class Product(models.Model):\n",
    "    # Attributes\n",
    "    title = models.CharField(default=None, max_length=150)\n",
    "    price = models.IntegerField(default=None)\n",
    "    rating = models.IntegerField(default=None, validators=[MinValueValidator(0), MaxValueValidator(5)])\n",
    "    short_description = models.CharField(default=None, max_length=350)\n",
    "    is_active = models.BooleanField(default=True) # By default, this field is not Nullable, so the default value can't be None either.\n",
    "\n",
    "    # Overriding __str__ method\n",
    "    def __str__(self):\n",
    "        return f\"{self.title} {self.price}\""
   ]
  },
  {
   "cell_type": "markdown",
   "metadata": {},
   "source": [
    "### Making Queries\n",
    "\n",
    "Reading things from databases is ideally happened with SQL queries, a set of commands which give you a lot of access to fetch and filter the data as you need. In Django, we don't directly write SQL code (Even though we can but it's best not to!), so how should we perform a Read action with detailed access similar to SQL? Let's begin with `get()`."
   ]
  },
  {
   "cell_type": "code",
   "execution_count": null,
   "metadata": {},
   "outputs": [],
   "source": [
    "Product.objects.get(price=1200)\n",
    "# Returns the object who has a price equal to 1200\n",
    "\n",
    "Product.objects.get(price=1200, id=3)\n",
    "# Returns the object who has a price equal to 1200 AND an id equal to 3"
   ]
  },
  {
   "cell_type": "markdown",
   "metadata": {},
   "source": [
    "Unfortunately `get()` won't work for an atrribute who have multiple instances of the given value. It's safest to use with Candidate Keys of a Relations. A Candidate Key is an attribute which we're sure has a unique occurence of value among all records in that relation. Like `id` which is the Primary Key.\n",
    "\n",
    "Sometimes we do need to fetch multiple records from the database; like getting all products who have a rating of 3. Or simply we're not sure if the given attribute is a Candidate Key. This is where `filter()` comes in play."
   ]
  },
  {
   "cell_type": "code",
   "execution_count": null,
   "metadata": {},
   "outputs": [],
   "source": [
    "Product.objects.filter(price=1200)\n",
    "# Returns all objects who have a price equal to 1200\n",
    "\n",
    "Product.objects.filter(is_active=1)\n",
    "# Returns all active products"
   ]
  },
  {
   "cell_type": "markdown",
   "metadata": {},
   "source": [
    "Again if you've worked with SQL, you would complain: \"What if we wanted to get all products who have a below 3 rating?\". In fact you would be right! You can't just say `Product.objects.filter(rating<3)`! This is an invalid Python Syntax, I mean come on, have you every seen a comparison operator used directly as a function argument?\n",
    "\n",
    "But don't be disappointed SQL lovers, Django too has a structure for this kind of queries. Though a little bit awkward!"
   ]
  },
  {
   "cell_type": "code",
   "execution_count": null,
   "metadata": {},
   "outputs": [],
   "source": [
    "Product.objects.filter(rating__lt=4) # lt stands for Lower Than\n",
    "# Returns all products of have a rating lower than 4\n",
    "\n",
    "Product.objects.filter(rating__gte=4) # gte stands for Greater Than or Equal to\n",
    "# Returns all products of have a rating greater than or equal to 4"
   ]
  },
  {
   "cell_type": "markdown",
   "metadata": {},
   "source": [
    "By taking a look at Django Official Documentation -> Making Queries [link](https://docs.djangoproject.com/en/5.1/ref/models/querysets/#field-lookups) you can find all available query writing principles there is to know.\n",
    "\n",
    "**Note: You can chain `filter()`, `get()` and also `exclude()` queries to make better ones.**"
   ]
  },
  {
   "cell_type": "markdown",
   "metadata": {},
   "source": [
    "There is a `Q()` method in `django.db.models` which we'll help with making more complex queries. Like using the `OR` operator!"
   ]
  },
  {
   "cell_type": "code",
   "execution_count": null,
   "metadata": {},
   "outputs": [],
   "source": [
    "from django.db.models import Q\n",
    "\n",
    "Product.objects.filter(Q(title__contains=\"iPhone\") | (Q(price__gt=600) & Q(is_active=True)))"
   ]
  },
  {
   "cell_type": "markdown",
   "metadata": {},
   "source": [
    "#### Nerd-out with ChatGPT!\n",
    "\n",
    "---\n",
    "\n",
    "**Django QuerySet Execution Behavior**\n",
    "\n",
    "When writing a query in the Django shell and pressing Enter, the query is not immediately executed. Instead, Django QuerySets are **lazy**, meaning that they are only executed when the result is explicitly required. This behavior allows Django to optimize database queries efficiently.\n",
    "\n",
    "For example, consider the following query:\n",
    "\n",
    "```python\n",
    "qs = Product.objects.filter(price__gt=600)\n",
    "```\n",
    "\n",
    "At this point, no database operation has occurred. The query has only been **constructed**, not executed. Django will execute the query only when the result is needed. Some operations that trigger execution include:\n",
    "\n",
    "- **Iteration:**\n",
    "  ```python\n",
    "  for product in qs:\n",
    "      print(product.title)\n",
    "  ```\n",
    "  This forces Django to fetch results from the database.\n",
    "\n",
    "- **Conversion to a list:**\n",
    "  ```python\n",
    "  list(qs)  # Executes the query and stores results in a list\n",
    "  ```\n",
    "\n",
    "- **etc.**\n",
    "\n",
    "This lazy evaluation approach allows Django to optimize database access by deferring execution until absolutely necessary, preventing unnecessary queries. One cool detail about QuerySets is that once they are executed, the result is cached and in case of re-use, they are not executed again.\n",
    "\n",
    "**Why Django QuerySets Are Not First-Class Citizens**\n",
    "\n",
    "While Django QuerySets can be stored in variables and passed around, they are not considered \"first-class citizens\" in the sense that they do not behave exactly like Python lists or functions. This is primarily due to their lazy evaluation and query execution behavior.\n",
    "\n",
    "1. **QuerySets are not immediately executed**\n",
    "   A QuerySet represents a database query but does not fetch data until it is evaluated. Storing a QuerySet in a variable does not store the results, only the query definition. For example:\n",
    "\n",
    "   ```python\n",
    "   qs = Product.objects.filter(price__gt=600)  # No database query yet\n",
    "   print(qs)  # Still no database query\n",
    "   print(list(qs))  # Query executes here\n",
    "   ```\n",
    "\n",
    "2. **QuerySets are not callable**\n",
    "   Unlike functions, QuerySets cannot be called to retrieve results dynamically. Attempting to call a QuerySet like a function results in an error:\n",
    "\n",
    "   ```python\n",
    "   qs = Product.objects.filter(price__gt=600)\n",
    "   qs()  # ❌ This will raise a TypeError\n",
    "   ```\n",
    "\n",
    "3. **QuerySets do not cache across modifications**\n",
    "   Once a QuerySet is evaluated, Django caches the results. However, modifying the QuerySet, such as applying additional filters, does not use the cached data—it generates a new database query:\n",
    "\n",
    "   ```python\n",
    "   qs = Product.objects.filter(price__gt=600)\n",
    "   print(list(qs))  # Executes the query\n",
    "\n",
    "   qs2 = qs.filter(is_active=True)  # Creates a new QuerySet\n",
    "   print(list(qs2))  # Executes a new query\n",
    "   ```\n",
    "\n",
    "4. **Ensuring reusability**\n",
    "   If the results need to be stored and reused without re-executing the query, converting the QuerySet into a list is recommended:\n",
    "\n",
    "   ```python\n",
    "   qs_list = list(Product.objects.filter(price__gt=600))  # Forces execution\n",
    "   ```\n",
    "\n",
    "   Now, `qs_list` contains actual results and can be used without making additional database queries.\n",
    "\n",
    "**Security Reasons Behind Lazy QuerySets**\n",
    "\n",
    "Django’s lazy QuerySet evaluation also serves as a security measure by preventing unintended database execution, minimizing data exposure, and reducing risks associated with SQL injection. Here’s how:\n",
    "\n",
    "1. **Prevention of Unintended Execution**\n",
    "   Since a QuerySet is just a query definition until it’s evaluated, **no database operation happens unless required**. This reduces the risk of accidental queries that could expose sensitive data or overload the database with unnecessary operations.\n",
    "\n",
    "2. **Protection Against SQL Injection**\n",
    "   Django QuerySets use Django’s ORM, which **automatically escapes query parameters** to prevent SQL injection. The lazy evaluation ensures that queries are constructed safely before execution. For example:  \n",
    "\n",
    "   ```python\n",
    "   qs = Product.objects.filter(title__contains=user_input)\n",
    "   ```  \n",
    "\n",
    "   Even if `user_input` contains malicious SQL, Django’s ORM **escapes it properly**, preventing direct SQL injection.\n",
    "\n",
    "3. **Minimizing Data Exposure**\n",
    "   If QuerySets were **immediately evaluated**, large or sensitive datasets might be unintentionally loaded into memory or displayed in logs, increasing the risk of **information leaks**. Lazy evaluation ensures that only the necessary data is fetched when required.\n",
    "\n",
    "4. **Avoiding DoS Attacks from Inefficient Queries**\n",
    "   If QuerySets executed immediately, a poorly designed query (e.g., fetching millions of records) could **slow down or crash the database**. Lazy evaluation allows Django to optimize the query execution, ensuring that only required data is retrieved efficiently.\n",
    "\n",
    "**Conclusion**\n",
    "\n",
    "Django’s lazy QuerySet evaluation is not just about efficiency—it’s also a security measure. It helps prevent SQL injection, limits unnecessary database access, reduces data exposure risks, and protects against performance-related attacks. In summary, while QuerySets can be stored and passed around like variables, their lazy execution model makes them behave differently from standard Python lists or functions, ensuring both efficiency and security.\n",
    "\n",
    "---"
   ]
  },
  {
   "cell_type": "markdown",
   "metadata": {},
   "source": [
    "Phew! That was a long lesson. Let's move on to the hands-on practice..."
   ]
  }
 ],
 "metadata": {
  "kernelspec": {
   "display_name": "LearnDjango",
   "language": "python",
   "name": "python3"
  },
  "language_info": {
   "name": "python",
   "version": "3.12.7"
  }
 },
 "nbformat": 4,
 "nbformat_minor": 2
}
