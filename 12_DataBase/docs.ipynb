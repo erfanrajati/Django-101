{
 "cells": [
  {
   "cell_type": "markdown",
   "metadata": {},
   "source": [
    "# Database\n",
    "\n",
    "No need to explain the importance of this section if you're like me! Database is the core of every real life project out there. In a real website, there will be a ton of data spreading around, form submisions, user credentials, pictures, posts, etc. All of them play a signifact role in website porgramming. The thing is that just like every other concept in programming, it's faily easy to get messed up.\n",
    "\n",
    "Here comes the Database, a fundamental idea of controlling the storage of data in software engineering, whether it's a website, an app, a cloud based service, Database plays a huge role. With that said, let's get to work!\n",
    "\n",
    "\n",
    "### Types of Data\n",
    "\n",
    "1. Temporary Data: This data is stored in the memory. As soon as the app proces is killed, this data is deleted from memory and needs to be reloaded. Like the python list we made in the previous project for our blog posts.\n",
    "\n",
    "2. Semi-Temporary Data: Coockies, Sessions, etc. This data is stored in the browser cache for a short time.\n",
    "\n",
    "3. Presistent Data: All the data that you need to hold onto for a long time. This type of data is store in the website database; which could be a SQL database or a non-SQL database. This tutorial follows the SQL databases and their interaction with Django.\n",
    "\n",
    "You'll see that as soon as you run your project for the first time, a Database file is generate at your project root called `db.sqlite3`. Note that you can add this on your own but make sure you name it the same as what you see in `settings.py > DATABASES`. Long story short, sqlite is a light-weight database which is perfect for small project. However, MySQL is the more advanced alternative which we'll talk about later on."
   ]
  },
  {
   "cell_type": "markdown",
   "metadata": {},
   "source": [
    "### Object Relational Mapping (ORM)\n",
    "\n",
    "Of course it's necessary to learn SQL when you wanna work with SQL databases. But the good news is that it's not!\n",
    "\n",
    "Depending on the Back-End framework you use, it might have a built in **Object Relational Mapping (ORM)** system which translates the code you write in that languge to SQL. hence, although recommended, it's not crucial to learn SQL to get some hands-on database experience.\n",
    "\n",
    "Django is no exception. Essentially, Django is a **Model Template View** frame work. Meaning that all of the process Django does is categoriezed in one of those three. We are already familiar with Template and View, which were in charge of getting the user request and rendering the response view. Models however, are the core idea behind presistant data."
   ]
  },
  {
   "cell_type": "markdown",
   "metadata": {},
   "source": [
    "### Django Models\n",
    "\n",
    "We will follow our tutorial during a hands-on online shop project. Let's just build a solid Django App and call it products, then, pay attention to `models.py` file there."
   ]
  },
  {
   "cell_type": "code",
   "execution_count": null,
   "metadata": {},
   "outputs": [],
   "source": [
    "from django.db import models\n",
    "\n",
    "# Create your models here."
   ]
  },
  {
   "cell_type": "markdown",
   "metadata": {},
   "source": [
    "This is where we implement schemas of our database. Each Database containes different tables (also called Relations), each column of each table is an attribute of that table. Each row of each table is called a record. For example, we would have a User table who's columns would be: id, username, password, age, etc. and one row of that table would look like this: 1, erfanrajati, -password-, 22, etc. \n",
    "\n",
    "To create a database schema we need to remember all the things we learned from Object Oriented Programming. We must first research the business we're making a website for in order to figure out which entities there is. Each entitiy is implementd using a Python class and later on translated to an SQL relation (table) in the database.\n",
    "\n",
    "**Note: The idea of designing the proper database schema for the business is one hell of a topic. And far from the purpose of learning vanilla django. In a software company, usually the role of Back-End developer is seperated from the Database Admin. But if you plan on becomming a professional Back-End engineer, it is crutial to put more focus on you database skills later on.**\n",
    "\n",
    "Anyway, let's create a simple Model shall we?"
   ]
  },
  {
   "cell_type": "code",
   "execution_count": null,
   "metadata": {},
   "outputs": [],
   "source": [
    "class Product(models.Model):\n",
    "    # Attributes\n",
    "    title = models.CharField(max_length=150)\n",
    "    price = models.IntegerField()\n"
   ]
  },
  {
   "cell_type": "markdown",
   "metadata": {},
   "source": [
    "Same as making a class in Vanilla Python, but with a tiny difference: Inheriting attributes and methods from `Model` class in `django.db.model`. If you have worked with SQL before, you know that when creating a table, it is needed to specify some informatoin of the type of data for each table column. It's all the same here, by looking at [Django Model Reference](https://docs.djangoproject.com/en/5.1/ref/models/fields/), you'll find detailed information about the information that you can or must specify where creating a model.\n",
    "\n",
    "One common attribute of almost every relation is it's **id** column. Which is unique among all records in that relation and so is used to fetch specific records from that relation. That column is called **Primary Key**. Django Model class includes this attribute by default so you don't need to make it, you just need to be awar of it.\n",
    "\n",
    "By doing what we did above, we have made a model, but the `db.sqlite3` file, which is our database file, is not altered. To see how we can apply this newly made model to our database, we must learn about Migration."
   ]
  },
  {
   "cell_type": "markdown",
   "metadata": {},
   "source": [
    "### Migration\n",
    "\n",
    "Each time you update the schema in `models.py` file, the changes must apply to the database. The following command is one of the steps in doing so.\n",
    "```bash\n",
    "python manage.py makemigrations\n",
    "```\n",
    "This command will execute a script to read all the newly made models and alterations to previous ones, translates them to SQL and makes a migrations class based on those at `MyProject/products/migrations` directory. An expected output for `makemigrations` command would be as follows:"
   ]
  },
  {
   "cell_type": "raw",
   "metadata": {
    "vscode": {
     "languageId": "raw"
    }
   },
   "source": [
    "Migrations for 'products':\n",
    "  products\\migrations\\0001_initial.py\n",
    "    + Create model Product"
   ]
  },
  {
   "cell_type": "markdown",
   "metadata": {},
   "source": [
    "After the command is executed, you'll find a python file named `0001_initial.py` at the migrations directory which would look something like this:"
   ]
  },
  {
   "cell_type": "code",
   "execution_count": null,
   "metadata": {},
   "outputs": [],
   "source": [
    "# Generated by Django 5.1.4 on 2025-02-08 20:13\n",
    "\n",
    "from django.db import migrations, models\n",
    "\n",
    "\n",
    "class Migration(migrations.Migration):\n",
    "\n",
    "    initial = True\n",
    "\n",
    "    dependencies = [\n",
    "    ]\n",
    "\n",
    "    operations = [\n",
    "        migrations.CreateModel(\n",
    "            name='Product',\n",
    "            fields=[\n",
    "                ('id', models.BigAutoField(auto_created=True, primary_key=True, serialize=False, verbose_name='ID')),\n",
    "                ('title', models.CharField(max_length=150)),\n",
    "                ('price', models.IntegerField()),\n",
    "            ],\n",
    "        ),\n",
    "    ]"
   ]
  },
  {
   "cell_type": "markdown",
   "metadata": {},
   "source": [
    "Note that our `db.sqlite3` file is not changed yet! The `makemigrations` command was a middle step of the entire database migration process. The next one is to run this:\n",
    "```bash\n",
    "python manage.py migrate\n",
    "```\n",
    "\n",
    "Which will apply all the changes to the database base on the `0001_initial.py` file. & a bunch of other files in the background. An expected output of this command **if it is ran for the first time**, would be as follows:"
   ]
  },
  {
   "cell_type": "raw",
   "metadata": {
    "vscode": {
     "languageId": "raw"
    }
   },
   "source": [
    "Applying contenttypes.0001_initial... OK\n",
    "Applying auth.0001_initial... OK\n",
    "Applying admin.0001_initial... OK\n",
    "Applying admin.0002_logentry_remove_auto_add... OK\n",
    "Applying admin.0003_logentry_add_action_flag_choices... OK\n",
    "Applying contenttypes.0002_remove_content_type_name... OK\n",
    "Applying auth.0002_alter_permission_name_max_length... OK\n",
    "Applying auth.0003_alter_user_email_max_length... OK\n",
    "Applying auth.0004_alter_user_username_opts... OK\n",
    "Applying auth.0005_alter_user_last_login_null... OK\n",
    "Applying auth.0006_require_contenttypes_0002... OK\n",
    "Applying auth.0007_alter_validators_add_error_messages... OK\n",
    "Applying auth.0008_alter_user_username_max_length... OK\n",
    "Applying auth.0009_alter_user_last_name_max_length... OK\n",
    "Applying auth.0010_alter_group_name_max_length... OK\n",
    "Applying auth.0011_update_proxy_permissions... OK\n",
    "Applying auth.0012_alter_user_first_name_max_length... OK\n",
    "Applying products.0001_initial... OK\n",
    "Applying sessions.0001_initial... OK"
   ]
  },
  {
   "cell_type": "markdown",
   "metadata": {},
   "source": [
    "As you can see, there are a lot of migration files here, most of which we have no idea what they do! We'll discuss what's happening here soon but before that let's get some help from ChatGPT.\n",
    "\n",
    "---"
   ]
  },
  {
   "cell_type": "markdown",
   "metadata": {},
   "source": [
    "#### ✅ When You Should Run `migrate` Right After `makemigrations`\n",
    "1. **Local Development:**  \n",
    "   - If you’re actively working on your project and making model changes, running `migrate` right after `makemigrations` keeps your database schema up to date.  \n",
    "   - Example:  \n",
    "     ```bash\n",
    "     python manage.py makemigrations\n",
    "     python manage.py migrate\n",
    "     ```\n",
    "  \n",
    "2. **Deploying to Production:**  \n",
    "   - When deploying a Django app, you typically run `makemigrations` in development, commit the migration files, and then run `migrate` on the production server to apply the changes.  \n",
    "   - Example (on the server):  \n",
    "     ```bash\n",
    "     python manage.py migrate --noinput\n",
    "     ```\n",
    "\n",
    "#### 🚀 When You Should NOT Run `migrate` Immediately\n",
    "1. **If You Need to Review the Migrations First:**  \n",
    "   - Sometimes, running `makemigrations` creates unexpected migrations (e.g., Django auto-generates a migration you didn’t intend).  \n",
    "   - You can **check the migration file** before applying it:\n",
    "     ```bash\n",
    "     python manage.py sqlmigrate app_name 0001\n",
    "     ```\n",
    "     This shows the SQL commands Django would run.\n",
    "\n",
    "2. **If You Need to Manually Edit a Migration File:**  \n",
    "   - If the automatically generated migration isn’t quite right, you may want to **edit the file** before running `migrate`.\n",
    "\n",
    "3. **If You Are Working in a Team and Using Version Control:**  \n",
    "   - You might generate migrations (`makemigrations`), commit them, and let others apply them later (`migrate`).  \n",
    "   - This prevents conflicts when multiple developers work on the same database schema.\n",
    "\n",
    "#### 🎯 Best Practice in a Team\n",
    "1. **Developers run `makemigrations` locally** when changing models.\n",
    "2. **They commit the migration files** (so others don’t have to re-run `makemigrations`).\n",
    "3. **On production, the `migrate` command is run** to apply the changes.\n",
    "\n",
    "---"
   ]
  },
  {
   "cell_type": "markdown",
   "metadata": {},
   "source": [
    "Alright, back on the output of migrate command. You remember there was some list called `INSTALLED_APPS` in project settings? Well it included a lot of apps, each one of those apps require migrations. The schema those apps wanted to apply relate to a variety of things, User models, Adming permissions, etc. If you have some way of viewing `.sqlite3` files, you can now open the `db.sqlite3` file to see what has happened.\n",
    "\n",
    "You'll see a bunch of tables and records inside those tables. The one we made is now called `products_product` which is made by the app name + model name."
   ]
  }
 ],
 "metadata": {
  "kernelspec": {
   "display_name": "Python 3",
   "language": "python",
   "name": "python3"
  },
  "language_info": {
   "name": "python",
   "version": "3.12.4"
  }
 },
 "nbformat": 4,
 "nbformat_minor": 2
}
