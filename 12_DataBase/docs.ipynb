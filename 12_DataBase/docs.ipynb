{
 "cells": [
  {
   "cell_type": "markdown",
   "metadata": {},
   "source": [
    "# Database\n",
    "\n",
    "No need to explain the importance of this section if you're like me! Database is the core of every real life project out there. In a real website, there will be a ton of data spreading around, form submisions, user credentials, pictures, posts, etc. All of them play a signifact role in website porgramming. The thing is that just like every other concept in programming, it's faily easy to get messed up.\n",
    "\n",
    "Here comes the Database, a fundamental idea of controlling the storage of data in software engineering, whether it's a website, an app, a cloud based service, Database plays a huge role. With that said, let's get to work!\n",
    "\n",
    "\n",
    "### Types of Data\n",
    "\n",
    "1. Temporary Data: This data is stored in the memory. As soon as the app proces is killed, this data is deleted from memory and needs to be reloaded. Like the python list we made in the previous project for our blog posts.\n",
    "\n",
    "2. Semi-Temporary Data: Coockies, Sessions, etc. This data is stored in the browser cache for a short time.\n",
    "\n",
    "3. Presistent Data: All the data that you need to hold onto for a long time. This type of data is store in the website database; which could be a SQL database or a non-SQL database. This tutorial follows the SQL databases and their interaction with Django.\n",
    "\n",
    "You'll see that as soon as you run your project for the first time, a Database file is generate at your project root called `db.sqlite3`. Note that you can add this on your own but make sure you name it the same as what you see in `settings.py > DATABASES`. Long story short, sqlite is a light-weight database which is perfect for small project. However, MySQL is the more advanced alternative which we'll talk about later on."
   ]
  },
  {
   "cell_type": "markdown",
   "metadata": {},
   "source": [
    "### Object Relational Mapping (ORM)\n",
    "\n",
    "Of course it's necessary to learn SQL when you wanna work with SQL databases. But the good news is that it's not!\n",
    "\n",
    "Depending on the Back-End framework you use, it might have a built in **Object Relational Mapping (ORM)** system which translates the code you write in that languge to SQL. hence, although recommended, it's not crucial to learn SQL to get some hands-on database experience.\n",
    "\n",
    "Django is no exception. Essentially, Django is a **Model Template View** frame work. Meaning that all of the process Django does is categoriezed in one of those three. We are already familiar with Template and View, which were in charge of getting the user request and rendering the response view. Models however, are the core idea behind presistant data."
   ]
  },
  {
   "cell_type": "markdown",
   "metadata": {},
   "source": [
    "### Django Models\n",
    "\n",
    "We will follow our tutorial during a hands-on online shop project. Let's just build a solid Django App and call it products, then, pay attention to `models.py` file there."
   ]
  },
  {
   "cell_type": "code",
   "execution_count": null,
   "metadata": {},
   "outputs": [],
   "source": [
    "from django.db import models\n",
    "\n",
    "# Create your models here."
   ]
  },
  {
   "cell_type": "markdown",
   "metadata": {},
   "source": [
    "This is where we implement schemas of our database. Each Database containes different tables (also called Relations), each column of each table is an attribute of that table. Each row of each table is called a record. For example, we would have a User table who's columns would be: id, username, password, age, etc. and one row of that table would look like this: 1, erfanrajati, -password-, 22, etc. \n",
    "\n",
    "To create a database schema we need to remember all the things we learned from Object Oriented Programming. We must first research the business we're making a website for in order to figure out which entities there is. Each entitiy is implementd using a Python class and later on translated to an SQL relation (table) in the database.\n",
    "\n",
    "**Note: The idea of designing the proper database schema for the business is one hell of a topic. And far from the purpose of learning vanilla django. In a software company, usually the role of Back-End developer is seperated from the Database Admin. But if you plan on becomming a professional Back-End engineer, it is crutial to put more focus on you database skills later on.**\n",
    "\n",
    "Anyway, let's create a simple Model shall we?"
   ]
  },
  {
   "cell_type": "code",
   "execution_count": null,
   "metadata": {},
   "outputs": [],
   "source": [
    "class Product(models.Model):\n",
    "    # Attributes\n",
    "    title = models.CharField(max_length=150)\n",
    "    price = models.IntegerField()\n"
   ]
  },
  {
   "cell_type": "markdown",
   "metadata": {},
   "source": [
    "Same as making a class in Vanilla Python, but with a tiny difference: Inheriting attributes and methods from `Model` class in `django.db.model`. If you have worked with SQL before, you know that when creating a table, it is needed to specify some informatoin of the type of data for each table column. It's all the same here, by looking at [Django Model Reference](https://docs.djangoproject.com/en/5.1/ref/models/fields/), you'll find detailed information about the information that you can or must specify where creating a model.\n",
    "\n",
    "One common attribute of almost every relation is it's **id** column. Which is unique among all records in that relation and so is used to fetch specific records from that relation. That column is called **Primary Key**. Django Model class includes this attribute by default so you don't need to make it, you just need to be awar of it.\n",
    "\n",
    "By doing what we did above, we have made a model, but the `db.sqlite3` file, which is our database file, is not altered. To see how we can apply this newly made model to our database, we must learn about Migration."
   ]
  },
  {
   "cell_type": "markdown",
   "metadata": {},
   "source": [
    "### Migration\n",
    "\n",
    "Each time you update the schema in `models.py` file, the changes must apply to the database. The following command is one of the steps in doing so.\n",
    "```bash\n",
    "python manage.py makemigrations\n",
    "```\n",
    "This command will execute a script to read all the newly made models and alterations to previous ones, translates them to SQL and makes a migrations class based on those at `MyProject/products/migrations` directory. An expected output for `makemigrations` command would be as follows:"
   ]
  },
  {
   "cell_type": "raw",
   "metadata": {
    "vscode": {
     "languageId": "raw"
    }
   },
   "source": [
    "Migrations for 'products':\n",
    "  products\\migrations\\0001_initial.py\n",
    "    + Create model Product"
   ]
  },
  {
   "cell_type": "markdown",
   "metadata": {},
   "source": [
    "After the command is executed, you'll find a python file named `0001_initial.py` at the migrations directory which would look something like this:"
   ]
  },
  {
   "cell_type": "code",
   "execution_count": null,
   "metadata": {},
   "outputs": [],
   "source": [
    "# Generated by Django 5.1.4 on 2025-02-08 20:13\n",
    "\n",
    "from django.db import migrations, models\n",
    "\n",
    "\n",
    "class Migration(migrations.Migration):\n",
    "\n",
    "    initial = True\n",
    "\n",
    "    dependencies = [\n",
    "    ]\n",
    "\n",
    "    operations = [\n",
    "        migrations.CreateModel(\n",
    "            name='Product',\n",
    "            fields=[\n",
    "                ('id', models.BigAutoField(auto_created=True, primary_key=True, serialize=False, verbose_name='ID')),\n",
    "                ('title', models.CharField(max_length=150)),\n",
    "                ('price', models.IntegerField()),\n",
    "            ],\n",
    "        ),\n",
    "    ]"
   ]
  },
  {
   "cell_type": "markdown",
   "metadata": {},
   "source": [
    "Note that our `db.sqlite3` file is not changed yet! The `makemigrations` command was a middle step of the entire database migration process. The next one is to run this:\n",
    "```bash\n",
    "python manage.py migrate\n",
    "```\n",
    "\n",
    "Which will apply all the changes to the database base on the `0001_initial.py` file. & a bunch of other files in the background. An expected output of this command **if it is ran for the first time**, would be as follows:"
   ]
  },
  {
   "cell_type": "raw",
   "metadata": {
    "vscode": {
     "languageId": "raw"
    }
   },
   "source": [
    "Applying contenttypes.0001_initial... OK\n",
    "Applying auth.0001_initial... OK\n",
    "Applying admin.0001_initial... OK\n",
    "Applying admin.0002_logentry_remove_auto_add... OK\n",
    "Applying admin.0003_logentry_add_action_flag_choices... OK\n",
    "Applying contenttypes.0002_remove_content_type_name... OK\n",
    "Applying auth.0002_alter_permission_name_max_length... OK\n",
    "Applying auth.0003_alter_user_email_max_length... OK\n",
    "Applying auth.0004_alter_user_username_opts... OK\n",
    "Applying auth.0005_alter_user_last_login_null... OK\n",
    "Applying auth.0006_require_contenttypes_0002... OK\n",
    "Applying auth.0007_alter_validators_add_error_messages... OK\n",
    "Applying auth.0008_alter_user_username_max_length... OK\n",
    "Applying auth.0009_alter_user_last_name_max_length... OK\n",
    "Applying auth.0010_alter_group_name_max_length... OK\n",
    "Applying auth.0011_update_proxy_permissions... OK\n",
    "Applying auth.0012_alter_user_first_name_max_length... OK\n",
    "Applying products.0001_initial... OK\n",
    "Applying sessions.0001_initial... OK"
   ]
  },
  {
   "cell_type": "markdown",
   "metadata": {},
   "source": [
    "As you can see, there are a lot of migration files here, most of which we have no idea what they do! You'll see a bunch of tables and records inside those tables. The one we made is now called `products_product` which is made by the app name + model name. Remember there was some list called `INSTALLED_APPS` in project settings? Well it included a lot of apps, each one of those apps require migrations. The schema those apps wanted to apply relate to a variety of things, User models, Admin permissions, etc. If you have some way of viewing `.sqlite3` files, you can now open the `db.sqlite3` file to see what has happened.\n",
    "\n",
    "So far we've learned how to make a database and add relations to it, in the next topic we'll begin applying CRUD (Create, Read, Update, Delete) records on the database. Before that however, let's get some help from ChatGPT with one faily important question:\n",
    "\n",
    "```raw\n",
    "Question: About Django management shell, should I always run migrate right after makemigrations?\n",
    "```\n",
    "\n",
    "---"
   ]
  },
  {
   "cell_type": "markdown",
   "metadata": {},
   "source": [
    "#### ✅ When You Should Run `migrate` Right After `makemigrations`\n",
    "1. **Local Development:**  \n",
    "   - If you’re actively working on your project and making model changes, running `migrate` right after `makemigrations` keeps your database schema up to date.  \n",
    "   - Example:  \n",
    "     ```bash\n",
    "     python manage.py makemigrations\n",
    "     python manage.py migrate\n",
    "     ```\n",
    "  \n",
    "2. **Deploying to Production:**  \n",
    "   - When deploying a Django app, you typically run `makemigrations` in development, commit the migration files, and then run `migrate` on the production server to apply the changes.  \n",
    "   - Example (on the server):  \n",
    "     ```bash\n",
    "     python manage.py migrate --noinput\n",
    "     ```\n",
    "\n",
    "#### 🚀 When You Should NOT Run `migrate` Immediately\n",
    "1. **If You Need to Review the Migrations First:**  \n",
    "   - Sometimes, running `makemigrations` creates unexpected migrations (e.g., Django auto-generates a migration you didn’t intend).  \n",
    "   - You can **check the migration file** before applying it:\n",
    "     ```bash\n",
    "     python manage.py sqlmigrate app_name 0001\n",
    "     ```\n",
    "     This shows the SQL commands Django would run.\n",
    "\n",
    "2. **If You Need to Manually Edit a Migration File:**  \n",
    "   - If the automatically generated migration isn’t quite right, you may want to **edit the file** before running `migrate`.\n",
    "\n",
    "3. **If You Are Working in a Team and Using Version Control:**  \n",
    "   - You might generate migrations (`makemigrations`), commit them, and let others apply them later (`migrate`).  \n",
    "   - This prevents conflicts when multiple developers work on the same database schema.\n",
    "\n",
    "#### 🎯 Best Practice in a Team\n",
    "1. **Developers run `makemigrations` locally** when changing models.\n",
    "2. **They commit the migration files** (so others don’t have to re-run `makemigrations`).\n",
    "3. **On production, the `migrate` command is run** to apply the changes.\n",
    "\n",
    "---"
   ]
  },
  {
   "cell_type": "markdown",
   "metadata": {},
   "source": [
    "### Database CRUD\n",
    "\n",
    "If you have some experience programming with text files (or any file for that matter), you are very well familiar with what **CRUD** is. When we're to have a permanent storage for our program, whether in a text file, JSON file, Excell file or simply a Database, it is crutial to know how to perform 4 fundamental actions:\n",
    "\n",
    "1. Create\n",
    "2. Read\n",
    "3. Update\n",
    "4. Delete\n",
    "\n",
    "Which abbreviate to CRUD. No matter what programming language or which type of data storage you're using, if you can do these, congrats! you know how to work with data!\n",
    "\n",
    "In terms of Django and SQL, performin CRUD is fairly easy. Let's start simple, if you run the following command in terminal, you'll have access to **Django Shell**. Which is a Shell, that is able to run Python code interactively."
   ]
  },
  {
   "cell_type": "code",
   "execution_count": null,
   "metadata": {
    "vscode": {
     "languageId": "shellscript"
    }
   },
   "outputs": [],
   "source": [
    "python manage.py shell"
   ]
  },
  {
   "cell_type": "markdown",
   "metadata": {},
   "source": [
    "- Note: if you're using a Python IDE like PyCharm, it is likely to have a **Python Console** which in a Django project, will work just the same as Django Shell\n",
    "\n",
    "This command will open a variation of `ipython` shell which is connected to Django directly; so it knows which apps you've made in your project and what code you wrote. Let's add a product (Create a record) to our database with this interactive shell shall we?"
   ]
  },
  {
   "cell_type": "raw",
   "metadata": {
    "vscode": {
     "languageId": "raw"
    }
   },
   "source": [
    "In [1]: from products.models import Product\n",
    "In [2]: new_prod = Product(title=\"iPhone 13\", price=799)"
   ]
  },
  {
   "cell_type": "markdown",
   "metadata": {
    "vscode": {
     "languageId": "raw"
    }
   },
   "source": [
    "Buy doing that, we have added a new record to memory, but not added to the database. Let's do that too!"
   ]
  },
  {
   "cell_type": "raw",
   "metadata": {
    "vscode": {
     "languageId": "raw"
    }
   },
   "source": [
    "In [3]: new_prod.save()"
   ]
  },
  {
   "cell_type": "markdown",
   "metadata": {},
   "source": [
    "Now take a look at `products_product` table in our database. Congratulations, you performed the Create action. Note that `Products` was a Python class initially which after migration, an entity was created in the database for that class which is the one you see now. Any object you make of this class, and then `save()`, it will automatically be added to `products_product` table.\n",
    "\n",
    "If you're struggling with seeing the database in a GUI based platform, you can use this command in Django Shell to see if the objects are added or not:"
   ]
  },
  {
   "cell_type": "raw",
   "metadata": {
    "vscode": {
     "languageId": "raw"
    }
   },
   "source": [
    "In [4]: Product.objects.all()\n",
    "Out[4]: <QuerySet [<Product: Product object (1)>]>"
   ]
  },
  {
   "cell_type": "markdown",
   "metadata": {},
   "source": [
    "**Note: the `Out[i]` line is the shell output.**\n",
    "\n",
    "This Django Shell things is actually a very powerfull debuggin tool for developers and software testers. It is recommended to play around with it to get the hang of it's capabilities. For example you can nerd things out but using you Vanilla Python knowledge to get more vivid data:"
   ]
  },
  {
   "cell_type": "raw",
   "metadata": {
    "vscode": {
     "languageId": "raw"
    }
   },
   "source": [
    "In [5]: for prod in Product.objects.all(): print(prod.title)\n",
    "iPhone 13"
   ]
  },
  {
   "cell_type": "markdown",
   "metadata": {},
   "source": [
    "Don't forget SQL commands here, you can connect to `db.sqlite3` in your terminal by running `sqlite3 db.sqlite3`, then you can run any SQL query you want.\n",
    "\n",
    "You are sure a great student and recall what **Polymorphism** was, the act of overriding and overloading a child class's methods and attributes. One significant build in method of Python classes was `__str__()`, which was ran as soon as you try to type cast objects of that class to *string*. Note that the `print()` method (and a lot of other thing) cast the given object to *string* in the back ground. With all that said, overriding `__str__()` in Django Models seem like a smart idea to begin with."
   ]
  },
  {
   "cell_type": "code",
   "execution_count": null,
   "metadata": {},
   "outputs": [],
   "source": [
    "class Product(models.Model):\n",
    "    # Attributes\n",
    "    title = models.CharField(max_length=150)\n",
    "    price = models.IntegerField()\n",
    "\n",
    "    # Overriding __str__ method\n",
    "    def __str__(self):\n",
    "        return f\"{self.title} {self.price}\""
   ]
  },
  {
   "cell_type": "markdown",
   "metadata": {},
   "source": [
    "Now if you go back to Django Shell and run `Products.objects.all()` command, you'll see much more intuitive results."
   ]
  },
  {
   "cell_type": "raw",
   "metadata": {
    "vscode": {
     "languageId": "raw"
    }
   },
   "source": [
    "In [2]: Product.objects.all()\n",
    "Out[2]: <QuerySet [<Product: iPhone 13 799>]>"
   ]
  },
  {
   "cell_type": "markdown",
   "metadata": {},
   "source": [
    "It's time to go a little bit more advaced about models. Let's learn Django Model Validators..."
   ]
  },
  {
   "cell_type": "markdown",
   "metadata": {},
   "source": [
    "### Django Model Validators\n",
    "\n",
    "Validators in Django are a significant subject (just like every other subject!), a Validator is essentially a method that checks if the given value fits the database schema or not. For Example, let's say we want each product to have a rating which has to be from 0 to 5, of course we can try to implement that using Vanilla Python but Django has a safer and easier way of doing that called `MinValueValidator` and `MaxValueValidator`.\n",
    "\n",
    "Let's start by importing the needed modules."
   ]
  },
  {
   "cell_type": "code",
   "execution_count": null,
   "metadata": {},
   "outputs": [],
   "source": [
    "# models.py\n",
    "\n",
    "from django.core.validators import MinLengthValidator, MaxValueValidator"
   ]
  },
  {
   "cell_type": "markdown",
   "metadata": {},
   "source": [
    "And then we change our model."
   ]
  }
 ],
 "metadata": {
  "kernelspec": {
   "display_name": "Python 3",
   "language": "python",
   "name": "python3"
  },
  "language_info": {
   "name": "python",
   "version": "3.12.4"
  }
 },
 "nbformat": 4,
 "nbformat_minor": 2
}
