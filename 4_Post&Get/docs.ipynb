{
 "cells": [
  {
   "cell_type": "markdown",
   "metadata": {},
   "source": [
    "# POST & GET\n",
    "\n",
    "Before we do anything, let's review a checklist of how to make a view and make it available on a certain url.\n",
    "\n",
    "1. Make an app (e.g. user) and add the app to `settings.py`\n",
    "2. Navigate to `views.py` and make any view\n",
    "3. Make a `urls.py` file in the user directory and add the path to `urlpatterns`\n",
    "4. Add the path to main app `urlpatterns` as well"
   ]
  },
  {
   "cell_type": "markdown",
   "metadata": {},
   "source": [
    "## GET\n",
    "\n",
    "Get is essentially a method for sending data from client side to server side. If that data was sent through a URL, we call it a GET request. Note that GET sends data in an exposed URL like this:\n",
    "`https://www.google.com/search?q=Hello`\n",
    "\n",
    "Therefore GET is not suitable for sensitive data like passwords."
   ]
  },
  {
   "cell_type": "markdown",
   "metadata": {},
   "source": [
    "## POST\n",
    "\n",
    "**Let's explain in some bullet points by ChatGPT:**\n",
    "- The data is sent in the body of the HTTP request, not in the URL.\n",
    "- Example: Form submissions, uploading files.\n",
    "- The request is not idempotent (sending the same POST request multiple times may create duplicate resources or change server state).\n",
    "- Not cached by default and not visible in browser history.\n",
    "- No practical limit on the amount of data sent."
   ]
  }
 ],
 "metadata": {
  "language_info": {
   "name": "python"
  }
 },
 "nbformat": 4,
 "nbformat_minor": 2
}
