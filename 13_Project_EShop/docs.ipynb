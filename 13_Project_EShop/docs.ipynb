{
 "cells": [
  {
   "cell_type": "markdown",
   "metadata": {},
   "source": [
    "# Project EShop\n",
    "\n",
    "This is a project in which we'll put our newly learned database skills to use. The set up fairly simple: Start the project, make a products app, run migrations and done!"
   ]
  },
  {
   "cell_type": "code",
   "execution_count": null,
   "metadata": {
    "vscode": {
     "languageId": "shellscript"
    }
   },
   "outputs": [],
   "source": [
    "django-admin startproject EShop\n",
    "cd EShop\n",
    "python manage.py startapp products\n",
    "python manage.py migrate"
   ]
  },
  {
   "cell_type": "markdown",
   "metadata": {},
   "source": [
    "Then we move on to working with Template layer, make some `HTML` files in the templates directory in products app."
   ]
  },
  {
   "cell_type": "raw",
   "metadata": {
    "vscode": {
     "languageId": "raw"
    }
   },
   "source": [
    "/EShop\n",
    "    /products\n",
    "        /templates\n",
    "            /products\n",
    "                products.html\n",
    "                product_details.html\n",
    "    /templates\n",
    "        /base.html\n",
    "    /EShop\n",
    "        /..."
   ]
  },
  {
   "cell_type": "markdown",
   "metadata": {},
   "source": [
    "Along with some CSS files which are not the main target of this lesson.\n",
    "\n",
    "Make the views and set up the urls and finally run the server and the set up is complete."
   ]
  },
  {
   "cell_type": "code",
   "execution_count": null,
   "metadata": {},
   "outputs": [],
   "source": [
    "# products -> views.py\n",
    "\n",
    "from django.shortcuts import render\n",
    "\n",
    "def products(request):\n",
    "    return render(request, 'products/products.html')\n",
    "\n",
    "def product_details(request, id):\n",
    "    return render(request, 'products/product_details.html')"
   ]
  },
  {
   "cell_type": "code",
   "execution_count": null,
   "metadata": {
    "vscode": {
     "languageId": "shellscript"
    }
   },
   "outputs": [],
   "source": [
    "python manage.py runserver"
   ]
  },
  {
   "cell_type": "markdown",
   "metadata": {},
   "source": [
    "### Designing the Database\n",
    "\n",
    "The main target of this subject, as spoken before, is to get the details of some products from database and show them in HTML webpage (and vice versa). Meaning we will basically need to build the flow of data among all three layers of Django: Model, Template, View!\n",
    "\n",
    "We'll start by making a model for our products just like the previous subject; migrate them to the database and then add some sample products to the database using Django Shell."
   ]
  },
  {
   "cell_type": "code",
   "execution_count": null,
   "metadata": {},
   "outputs": [],
   "source": [
    "# prodcuts -> models.py\n",
    "\n",
    "from django.db import models\n",
    "\n",
    "class Product(models.Model):\n",
    "    name = models.CharField(default=\"N/A\", max_length=100)\n",
    "    price = models.IntegerField(default=0)\n",
    "    is_active = models.BooleanField(default=True)"
   ]
  },
  {
   "cell_type": "code",
   "execution_count": null,
   "metadata": {
    "vscode": {
     "languageId": "shellscript"
    }
   },
   "outputs": [],
   "source": [
    "python manage.py makemigrations\n",
    "pyhton manage.py migrate\n",
    "python manage.py shell"
   ]
  },
  {
   "cell_type": "raw",
   "metadata": {
    "vscode": {
     "languageId": "raw"
    }
   },
   "source": [
    "from products.models import Product\n",
    "\n",
    "prods = [] # Use ChatGPT to write 20 of these\n",
    "\n",
    "for n, p, a in prods:\n",
    "    Product.objects.create(name=n, price=p, is_active=a)"
   ]
  },
  {
   "cell_type": "markdown",
   "metadata": {},
   "source": [
    "### Product List Page\n",
    "\n",
    "Now we have completed our work with the Model layer. Time for View and Template. Suppose the body of `products.html` looks something like this:"
   ]
  },
  {
   "cell_type": "code",
   "execution_count": null,
   "metadata": {
    "vscode": {
     "languageId": "html"
    }
   },
   "outputs": [],
   "source": [
    "{% block body_refs %}\n",
    "\n",
    "<h1>Hello, World!</h1>\n",
    "\n",
    "<ul>\n",
    "    <li><a href=\"\">Item 1</a></li>\n",
    "    <li><a href=\"\">Item 2</a></li>\n",
    "    <li><a href=\"\">Item 3</a></li>\n",
    "</ul>\n",
    "\n",
    "{% endblock %}"
   ]
  },
  {
   "cell_type": "markdown",
   "metadata": {},
   "source": [
    "The goal is to have thos `<li>` tags fetch their data from the database -> Product Model. Let's go back to views file and fetch the data there."
   ]
  },
  {
   "cell_type": "code",
   "execution_count": null,
   "metadata": {},
   "outputs": [],
   "source": [
    "def products(request):\n",
    "    products = Product.objects.all()\n",
    "    return render(\n",
    "        request, \n",
    "        'products/products.html', \n",
    "        context={'products':products}\n",
    "    )"
   ]
  },
  {
   "cell_type": "markdown",
   "metadata": {},
   "source": [
    "You can see that everything we're using here is taught before, it's just the matter of mixing our knowledge into something practical.\n",
    "\n",
    "Next up, alter the `products.html` file with some Python for loop to do the thing."
   ]
  },
  {
   "cell_type": "code",
   "execution_count": null,
   "metadata": {
    "vscode": {
     "languageId": "html"
    }
   },
   "outputs": [],
   "source": [
    "{% block body_refs %}\n",
    "<h1>Hello, World!</h1>\n",
    "\n",
    "<ul>\n",
    "    {% for prod in products %}\n",
    "        <li>\n",
    "            <a href=\"\">\n",
    "                {{ prod.name }}\n",
    "            </a>\n",
    "        </li>\n",
    "    {% endfor %}\n",
    "</ul>\n",
    "{% endblock %}"
   ]
  },
  {
   "cell_type": "markdown",
   "metadata": {},
   "source": [
    "Run the server once again to see the magic!"
   ]
  },
  {
   "cell_type": "markdown",
   "metadata": {},
   "source": [
    "### Product Details Page\n",
    "\n",
    "This next step is faily simple, we just need to build the connection of each `<a>` tag in product list to the relevant page of the desired product.\n",
    "\n",
    "The key in doing so is the Primary Key in the database, which was id and was generated automatically after migration.\n",
    "\n",
    "We'll start by adding the URL to the tag itself:"
   ]
  },
  {
   "cell_type": "code",
   "execution_count": null,
   "metadata": {
    "vscode": {
     "languageId": "html"
    }
   },
   "outputs": [],
   "source": [
    "<ul>\n",
    "    {% for prod in products %}\n",
    "        <li>\n",
    "            <a href=\"{% url 'product_details' id=prod.id %}\">\n",
    "                {{ prod.name }}\n",
    "            </a>\n",
    "        </li>\n",
    "    {% endfor %}\n",
    "</ul>"
   ]
  },
  {
   "cell_type": "markdown",
   "metadata": {},
   "source": [
    "This matter can also be done by using the `reverse()` method we saw earlier. We can alter the `Product` class in our models adding a method called `get_absolute_url(self)` which will eventually look something like this:"
   ]
  },
  {
   "cell_type": "code",
   "execution_count": null,
   "metadata": {},
   "outputs": [],
   "source": [
    "from django.urls import reverse\n",
    "\n",
    "def get_absolute_url(self):\n",
    "    return reverse('product_details', args=[self.id]) # Args will fill out the <id> part of the url."
   ]
  },
  {
   "cell_type": "markdown",
   "metadata": {},
   "source": [
    "Then we move onto completing the `product_details()` view. If you have completed previous subjects cautiosly, you shouldn't have any problem understanding what's going on."
   ]
  },
  {
   "cell_type": "code",
   "execution_count": null,
   "metadata": {},
   "outputs": [],
   "source": [
    "def product_details(request, id):\n",
    "    product = Product.objects.get(id=id)\n",
    "    return render(\n",
    "        request, \n",
    "        'products/product_details.html', \n",
    "        {'product':product}\n",
    "    )"
   ]
  },
  {
   "cell_type": "markdown",
   "metadata": {},
   "source": [
    "Finally, since styling isn't the target of this topic, we'll finish the work by a simple outline for `product_details.html` file."
   ]
  },
  {
   "cell_type": "code",
   "execution_count": null,
   "metadata": {
    "vscode": {
     "languageId": "html"
    }
   },
   "outputs": [],
   "source": [
    "{% extends 'base.html' %}\n",
    "{% load static %}\n",
    "\n",
    "{% block head_refs %}\n",
    "<link rel=\"stylesheet\" href=\"{% static '/products/css/products.css' %}\">\n",
    "{% endblock %}\n",
    "\n",
    "{% block title %}\n",
    "{{ product.name }}\n",
    "{% endblock %}\n",
    "\n",
    "{% block body_refs %}\n",
    "<h1>{{ product.name }}</h1>\n",
    "<h2>{{ product.price }}</h2>\n",
    "{% endblock %}"
   ]
  },
  {
   "cell_type": "markdown",
   "metadata": {},
   "source": [
    "Restart the app if needed, and see what happens...\n",
    "\n",
    "If you're a best-practice nerd like me and want to strictly follow the standards all the time, you gotta handle situations where the product does not exist in the database."
   ]
  },
  {
   "cell_type": "code",
   "execution_count": null,
   "metadata": {},
   "outputs": [],
   "source": [
    "from django.http import Http404\n",
    "from django.shortcuts import get_object_or_404\n",
    "\n",
    "def product_details(request, id):\n",
    "    try:\n",
    "        product = Product.objects.get(id=id)\n",
    "    except:\n",
    "        raise Http404\n",
    "    \n",
    "    # or simply\n",
    "    product = get_object_or_404(Product, pk=id) # WHERE Primary Key = id\n",
    "    \n",
    "    return render(\n",
    "        request, \n",
    "        'products/product_details.html', \n",
    "        {'product':product}\n",
    "    )"
   ]
  },
  {
   "cell_type": "markdown",
   "metadata": {},
   "source": [
    "There is one tiny detail which is worth mentioning here, that is the way the product is to be shown in URL. Right now, we simply feed the product's id into the `<id>` part in URL, which is fine but it's also possible to have a name shown in the URL instead of the product's id in the database.\n",
    "\n",
    "To do so, we need to alter a few things. Navigate to `Product` model in `models.py` and add a new attribute, an instance of `SlugField()` class in `models` module. This class isn't anything magical, it just turns a word like \"Hello World\" into \"hello-world\", which is a valid notation for URLs.\n",
    "\n",
    "At this point, you must very well know that you'd have to migrate once again to apply these changes to the database. What about previous data? We'll it's best to just clear everything out and generate new ones using ChatGPT same as before. The command below might be useful for clearing the already existing data in the database:\n",
    "\n",
    "```bash\n",
    "python manage.py flush\n",
    "```"
   ]
  },
  {
   "cell_type": "code",
   "execution_count": null,
   "metadata": {},
   "outputs": [],
   "source": [
    "from django.db import models\n",
    "\n",
    "# Create your models here.\n",
    "class Product(models.Model):\n",
    "    name = models.CharField(default=\"N/A\", max_length=100)\n",
    "    price = models.IntegerField(default=0)\n",
    "    is_active = models.BooleanField(default=True)\n",
    "    slug = models.SlugField(default=\"\", unique=True, db_index=True)\n",
    "\n",
    "    def __str__(self):\n",
    "        return f\"{self.name}\""
   ]
  },
  {
   "cell_type": "markdown",
   "metadata": {},
   "source": [
    "Note that the `db_index=True` performs an action called *Indexing* on this attribute of the database which will result in much faster data fetch and perfomance.\n",
    "\n",
    "Then, it's time to change the `<id>` part to `<slug>` in URL path we made earlier in the `urls.py` file. This step, even though not necessary, it's best practice for clean code. Not cool to call something 'id' when it's the furthest thing from 'id'."
   ]
  },
  {
   "cell_type": "code",
   "execution_count": null,
   "metadata": {},
   "outputs": [],
   "source": [
    "from django.urls import path\n",
    "from .EShop.products import views\n",
    "\n",
    "urlpatterns = [\n",
    "    path('', views.products, name='products'),\n",
    "    path('product/<slug>', views.product_details, name='product_details'),\n",
    "]"
   ]
  },
  {
   "cell_type": "markdown",
   "metadata": {},
   "source": [
    "Next, we update the `product_details()` view in our views file to follow this new principles."
   ]
  },
  {
   "cell_type": "code",
   "execution_count": null,
   "metadata": {},
   "outputs": [],
   "source": [
    "def product_details(request, slug):\n",
    "    try:\n",
    "        product = Product.objects.get(slug=slug) # pay attention to this one!\n",
    "    except:\n",
    "        raise Http404\n",
    "    return render(\n",
    "        request, \n",
    "        'products/product_details.html', \n",
    "        {'product':product}\n",
    "    )"
   ]
  },
  {
   "cell_type": "markdown",
   "metadata": {},
   "source": [
    "Finally, we alter the `<a>` tag in our `products.html` file to point to the newly made field."
   ]
  },
  {
   "cell_type": "code",
   "execution_count": null,
   "metadata": {
    "vscode": {
     "languageId": "html"
    }
   },
   "outputs": [],
   "source": [
    "<ul>\n",
    "    {% for prod in products %}\n",
    "        <li>\n",
    "            <a href=\"{% url 'product_details' slug=prod.slug %}\">\n",
    "                {{ prod.name }}\n",
    "            </a>\n",
    "        </li>\n",
    "    {% endfor %}\n",
    "</ul>"
   ]
  },
  {
   "cell_type": "markdown",
   "metadata": {},
   "source": [
    "Run the server and check out the difference!\n",
    "\n",
    "**I have added a random number to the end of each slug in order to avoid similar slug vlaues as the records grow! Ever thaught what would happen if I hadn't?**"
   ]
  },
  {
   "cell_type": "markdown",
   "metadata": {},
   "source": [
    "**Nerd Out**\n",
    "\n",
    "Having multiple occurence of a slug value will eventually cause somthing to break. For example, you might recall that we handled the un available products in views like this:"
   ]
  },
  {
   "cell_type": "code",
   "execution_count": null,
   "metadata": {},
   "outputs": [],
   "source": [
    "def product_details(request, slug):\n",
    "    try:\n",
    "        product = Product.objects.get(slug=slug)\n",
    "    except:\n",
    "        raise Http404\n",
    "    return render(\n",
    "        request, \n",
    "        'products/product_details.html', \n",
    "        {'product':product}\n",
    "    )"
   ]
  },
  {
   "cell_type": "markdown",
   "metadata": {},
   "source": [
    "Quote from official Django Documentation:\n",
    "\n",
    "---\n",
    "\n",
    "Note that there is a difference between using `get()`, and using `filter()` with a slice of \\[0\\]. If there are no results that match the query, `get()` will raise a `DoesNotExist` exception. This exception is an attribute of the model class that the query is being performed on - so in the code above, if there is no Entry object with a primary key of 1, Django will raise Entry.`DoesNotExist`.\n",
    "\n",
    "Similarly, Django will complain if more than one item matches the `get()` query. In this case, it will raise `MultipleObjectsReturned`, which again is an attribute of the model class itself.\n",
    "\n",
    "---\n",
    "\n",
    "That's why we tend to use `get()` for this action, same as why it's prefred to set `unique=True` as we create the `SlugField()` attribute in the model."
   ]
  }
 ],
 "metadata": {
  "kernelspec": {
   "display_name": "Python 3",
   "language": "python",
   "name": "python3"
  },
  "language_info": {
   "name": "python",
   "version": "3.12.4"
  }
 },
 "nbformat": 4,
 "nbformat_minor": 2
}
