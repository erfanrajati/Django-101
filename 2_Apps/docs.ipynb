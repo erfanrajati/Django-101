{
 "cells": [
  {
   "cell_type": "markdown",
   "metadata": {},
   "source": [
    "# Apps\n",
    "\n",
    "Each app (also known as Module) is a sub program in django which will be used to code a specific part of the entire serverside program.\n",
    "\n",
    "To create an app:"
   ]
  },
  {
   "cell_type": "code",
   "execution_count": null,
   "metadata": {
    "vscode": {
     "languageId": "shellscript"
    }
   },
   "outputs": [],
   "source": [
    "$ python manage.py startapp <App-Name>"
   ]
  },
  {
   "cell_type": "markdown",
   "metadata": {},
   "source": [
    "This will create a folder in the project directory called App-Name, in which you'll fine a set of similar files to the main project folder. I have already create a sample app called app_1, to which I will refere from this point on.\n",
    "\n",
    "The project directory includes folders for each app. You'll notice there is also a folder named the same as the project directory. That folder is as well a django app which is in charge of the entire project, more like a team-lead!"
   ]
  },
  {
   "cell_type": "markdown",
   "metadata": {},
   "source": [
    "### What new things are inside the app_1 folder\n",
    "\n",
    "1. `migrations`: we'll talk about this later.\n",
    "2. `admin.py`: later!\n",
    "3. `test.py`: Used for unit testing, not talked about in this course.\n",
    "4. `views.py`: This is the stuff, the file which is in charge of what data is sent to client-side."
   ]
  },
  {
   "cell_type": "markdown",
   "metadata": {},
   "source": [
    "**You need to introduce each new app you make to django!**\n",
    "\n",
    "To do this, you'll nee to add the app name to the INSTALLED_APPS list in settings.py in the main project app directory.\n",
    "\n",
    "_Nerd out_: Search about INSTALLED_APPS and what it does."
   ]
  }
 ],
 "metadata": {
  "language_info": {
   "name": "python"
  }
 },
 "nbformat": 4,
 "nbformat_minor": 2
}
