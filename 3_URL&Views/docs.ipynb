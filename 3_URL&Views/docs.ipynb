{
 "cells": [
  {
   "cell_type": "markdown",
   "metadata": {},
   "source": [
    "# URL: Uniform Resource Locator\n",
    "\n",
    "You know what a URL is. but how to make a URL in django? let's learn that along with views!"
   ]
  },
  {
   "cell_type": "markdown",
   "metadata": {},
   "source": [
    "# Views\n",
    "\n",
    "View is a logic that is excecuted when each URL is called. A set of functions and classes!\n",
    "\n",
    "To create a view, make an app first (and don't forget to add it in `settings.py`) and then navigate to `views.py` file. (_Nerd out_ about the import line). Add this line to the file:\n"
   ]
  },
  {
   "cell_type": "code",
   "execution_count": null,
   "metadata": {},
   "outputs": [],
   "source": [
    "from django.http import HttpResponse\n",
    "\n",
    "def index(request): # or any name you want\n",
    "    return HttpResponse(\"Hello, World!\")"
   ]
  },
  {
   "cell_type": "markdown",
   "metadata": {},
   "source": [
    "`request` parameter is what the client side sends to the URL `/` which django will recieve and feed into `index()` function.\n",
    "\n",
    "Now it's time to introduce the url to the app and therefore the django himslef! make a `urls.py` file in the app directory and add this code inside it."
   ]
  },
  {
   "cell_type": "code",
   "execution_count": null,
   "metadata": {},
   "outputs": [],
   "source": [
    "from django.urls import path\n",
    "from . import views # the views file in the same app directory.\n",
    "\n",
    "urlpatterns = [\n",
    "    path('sunday', views.index) # the name of the function you made in views.\n",
    "]"
   ]
  },
  {
   "cell_type": "markdown",
   "metadata": {},
   "source": [
    "Unfortunately the work isn't done yet, since we used an app (and not the main app) to make a view and a url, we need to add this url to the main app `urls.py` too! Navigate to main app directory and open `urls.py`. update `urlpatterns` to include the newly made url."
   ]
  },
  {
   "cell_type": "code",
   "execution_count": null,
   "metadata": {},
   "outputs": [],
   "source": [
    "from django.urls import path, include # include helps add all urls from an external app to the main app with a single line of code.\n",
    "from django.contrib import admin\n",
    "\n",
    "urlpatterns = [\n",
    "    path('admin/', admin.site.urls),\n",
    "    path('url_test/', include('url_test.urls'))\n",
    "]"
   ]
  },
  {
   "cell_type": "markdown",
   "metadata": {},
   "source": [
    "In the line `path('url_test', include('url_test.urls'))`, this first `url_test/` maked a new url like: `localhost:8000/url_test/`.\n",
    "And the second one referes to what you called your external app, they CAN be diffenet indeed!\n",
    "\n",
    "You can also add a path like this: `path('', include('url_test.urls'))` which directly bonds root url to external app urls.\n",
    "\n",
    "It is pretty obvious that you need to add a root URL for the main domain. to do that, you must make a `views.py` file in the main app directory and make the desired function for the main page! and then update main app urls to this:"
   ]
  },
  {
   "cell_type": "code",
   "execution_count": null,
   "metadata": {},
   "outputs": [],
   "source": [
    "from . import views\n",
    "\n",
    "urlpatterns = [\n",
    "    path('', views.index),\n",
    "    path('admin/', admin.site.urls),\n",
    "    path('url_test/', include('url_test.urls')),\n",
    "]"
   ]
  },
  {
   "cell_type": "markdown",
   "metadata": {},
   "source": [
    "### Conclusion\n",
    "\n",
    "Basically, the URL system in django is more like a tree. The root of the tree lies in the main app directory `urls.py`. Main branches of this tree would be each external app. The leaves so to speak would be the Views!"
   ]
  }
 ],
 "metadata": {
  "language_info": {
   "name": "python"
  }
 },
 "nbformat": 4,
 "nbformat_minor": 2
}
