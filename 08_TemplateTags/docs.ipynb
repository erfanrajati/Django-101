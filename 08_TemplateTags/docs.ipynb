{
 "cells": [
  {
   "cell_type": "markdown",
   "metadata": {},
   "source": [
    "# Django Template Tags (By DTL)\n",
    "\n",
    "Let's say template tags are talking about the correct syntax that is to be used from Python inside HTML. You can't just put any Python sh*t you know between two curly braces and get away with it! There is significant structure to be used in there.\n",
    "\n",
    "Let's start simple, just like the project at chapter 7, we have and app called \"app1\" That has a view which is meant to send some Python list items back to client side inside an HTML file. Let's take a look at the codes."
   ]
  },
  {
   "cell_type": "code",
   "execution_count": null,
   "metadata": {},
   "outputs": [],
   "source": [
    "#/MyProject/app1/views.py\n",
    "from django.shortcuts import render\n",
    "\n",
    "def index(request):\n",
    "    data = {\n",
    "        \"HoHoHo\": [\"Santa\", \"Christmas\", \"Candy\"] # Yes my child it's Christmas at the time I'm writing this!\n",
    "    }\n",
    "    return render(request, \"app1/index.html\", context=data)"
   ]
  },
  {
   "cell_type": "code",
   "execution_count": null,
   "metadata": {
    "vscode": {
     "languageId": "html"
    }
   },
   "outputs": [],
   "source": [
    "<!-- /MyProject/app1/templates/app1/index.html -->\n",
    "<!DOCTYPE html>\n",
    "<html lang=\"en\">\n",
    "<head>\n",
    "    <meta charset=\"UTF-8\">\n",
    "    <meta name=\"viewport\" content=\"width=device-width, initial-scale=1.0\">\n",
    "    <title>Django Template Tags</title>\n",
    "</head>\n",
    "<body>\n",
    "    <ul>\n",
    "        {% for word in  HoHoHo %}\n",
    "        <li>\n",
    "            {{ word }}\n",
    "        </li>\n",
    "        {% endfor %}\n",
    "    </ul>\n",
    "</body>\n",
    "</html>"
   ]
  },
  {
   "cell_type": "markdown",
   "metadata": {},
   "source": [
    "Add the files and give it a test! we'll learn more deeply about DTT from this point on. "
   ]
  },
  {
   "cell_type": "markdown",
   "metadata": {},
   "source": [
    "### URLs in DTT\n",
    "\n",
    "You remember the unique name we could give to specific urls like this: `path('url', views.index, name=\"unique_name\")`? well we can use that unique name in HTML files too!"
   ]
  },
  {
   "cell_type": "code",
   "execution_count": null,
   "metadata": {
    "vscode": {
     "languageId": "html"
    }
   },
   "outputs": [],
   "source": [
    "\n",
    "<body>\n",
    "    <a href=\"{% url 'unique_name' %}\">\n",
    "        Click Me!\n",
    "    </a>\n",
    "</body>\n",
    "</html>"
   ]
  },
  {
   "cell_type": "markdown",
   "metadata": {},
   "source": [
    "### if statement in DTT\n",
    "\n",
    "Obvious by the name, you can use conditional statements inside HTML with DTT. The example works with the case where given data is `None`."
   ]
  },
  {
   "cell_type": "code",
   "execution_count": null,
   "metadata": {
    "vscode": {
     "languageId": "html"
    }
   },
   "outputs": [],
   "source": [
    "<body>\n",
    "    {% if data is not None %}\n",
    "    <p>{{ data }}</p>\n",
    "    {% else %}\n",
    "    <p>Data not available!</p>\n",
    "    {% endif %}\n",
    "</body>\n",
    "</html>"
   ]
  }
 ],
 "metadata": {
  "language_info": {
   "name": "python"
  }
 },
 "nbformat": 4,
 "nbformat_minor": 2
}
