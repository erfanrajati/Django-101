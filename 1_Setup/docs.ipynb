{
 "cells": [
  {
   "cell_type": "markdown",
   "metadata": {},
   "source": [
    "### First Step\n",
    "To create a django project, we use the django CLI."
   ]
  },
  {
   "cell_type": "code",
   "execution_count": null,
   "metadata": {
    "vscode": {
     "languageId": "shellscript"
    }
   },
   "outputs": [],
   "source": [
    "$ django-admin start project <Project-Name>"
   ]
  },
  {
   "cell_type": "markdown",
   "metadata": {},
   "source": [
    "this command will create the default django files needed"
   ]
  },
  {
   "cell_type": "markdown",
   "metadata": {},
   "source": [
    "**Let's learn the list of mainly generated django files**\n",
    "\n",
    "1. `manage.py` is the main file which we don't change anything about just now\n",
    "2. `__init__.py` \n",
    "3. `asgi.py` and `wsgi.py` these files are needed when you want to deploy and host a django project later on.\n",
    "4. `settings.py` the name tell all, we need to get familiar with this file deeply along the way.\n",
    "5. `urls.py` all the urls! (routes in flask)"
   ]
  },
  {
   "cell_type": "markdown",
   "metadata": {},
   "source": [
    "**Finally we'll learn about localhost and debug mode.**\n",
    "\n",
    "To start the django webserver on locanhost (debug mode)"
   ]
  },
  {
   "cell_type": "code",
   "execution_count": null,
   "metadata": {
    "vscode": {
     "languageId": "shellscript"
    }
   },
   "outputs": [],
   "source": [
    "$ python manage.py runserver"
   ]
  },
  {
   "cell_type": "markdown",
   "metadata": {},
   "source": [
    "And to stop the server from running you can kill the process or terminal using `Ctrl+c`."
   ]
  }
 ],
 "metadata": {
  "language_info": {
   "name": "python"
  }
 },
 "nbformat": 4,
 "nbformat_minor": 2
}
