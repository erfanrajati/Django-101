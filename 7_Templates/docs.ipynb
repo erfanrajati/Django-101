{
 "cells": [
  {
   "cell_type": "markdown",
   "metadata": {},
   "source": [
    "# Templates\n",
    "\n",
    "Welcome to a pivot lesson of Django! So far we have been using a string to send responses to client side. Now we will learn the real stuff. Templates are basically folders containing HTML files that can be connected to views and bonded to URLs.\n",
    "\n",
    "First off, let's take a look at Django project hierarchy once more. (for this project!)"
   ]
  },
  {
   "cell_type": "code",
   "execution_count": null,
   "metadata": {
    "vscode": {
     "languageId": "plaintext"
    }
   },
   "outputs": [],
   "source": [
    "MyProject/\n",
    "    MyProject/\n",
    "        <files.py>\n",
    "    app1/\n",
    "        <files.py>\n",
    "    app2/\n",
    "        <files.py>"
   ]
  },
  {
   "cell_type": "markdown",
   "metadata": {},
   "source": [
    "if you want to have a template for each app, you must make a `templates` folder inside the directory of that app. We will make templates for `app1` and `app2` here. Oh! you also need to add a folder with the same name as the app inside the templates folder. Then, you'll be able to add your HTML files."
   ]
  },
  {
   "cell_type": "code",
   "execution_count": null,
   "metadata": {
    "vscode": {
     "languageId": "plaintext"
    }
   },
   "outputs": [],
   "source": [
    "/MyProject\n",
    "    /MyProject\n",
    "        <files.py>\n",
    "    \n",
    "    /app1\n",
    "        /templates\n",
    "            /app1\n",
    "                index.html\n",
    "        <files.py>\n",
    "    \n",
    "    /app2\n",
    "        /templates\n",
    "            /app2\n",
    "                index.html\n",
    "        <files.py>"
   ]
  },
  {
   "cell_type": "markdown",
   "metadata": {},
   "source": [
    "Let's add some HTML content shall we? (to `/MyProject/app1/templates/app1/index.html`)"
   ]
  },
  {
   "cell_type": "code",
   "execution_count": null,
   "metadata": {
    "vscode": {
     "languageId": "html"
    }
   },
   "outputs": [],
   "source": [
    "<!DOCTYPE html>\n",
    "<html lang=\"en\">\n",
    "<head>\n",
    "    <meta charset=\"UTF-8\">\n",
    "    <meta name=\"viewport\" content=\"width=device-width, initial-scale=1.0\">\n",
    "    <title>App 1</title>\n",
    "</head>\n",
    "<body>\n",
    "    <h1>Hello, Templates!</h1>\n",
    "    <h2>this is app2</h2>\n",
    "</body>\n",
    "</html>"
   ]
  },
  {
   "cell_type": "markdown",
   "metadata": {},
   "source": [
    "And as usual, let's make a view. But this time, we will use a new method called `render_to_string()` which get's the path to `index.html` file and renders it to a string! This method is provided by `django.template.loader`.\n",
    "\n",
    "p.s. you remember that to make a view you need you alter `/MyProject/app1/views.py`!"
   ]
  },
  {
   "cell_type": "code",
   "execution_count": null,
   "metadata": {},
   "outputs": [],
   "source": [
    "from django.template.loader import render_to_string\n",
    "from django.http import HttpResponse\n",
    "\n",
    "def index(rquest):\n",
    "    response = render_to_string(\"app1/index.html\")\n",
    "    return HttpResponse(response)"
   ]
  },
  {
   "cell_type": "markdown",
   "metadata": {},
   "source": [
    "Finally, let's bind it to a URL and give it a test."
   ]
  },
  {
   "cell_type": "code",
   "execution_count": null,
   "metadata": {},
   "outputs": [],
   "source": [
    "# /MyProject/app1/urls.py\n",
    "from django.urls import path\n",
    "from . import views\n",
    "\n",
    "urlpatterns = [\n",
    "    path('', views.index)\n",
    "]"
   ]
  },
  {
   "cell_type": "code",
   "execution_count": null,
   "metadata": {},
   "outputs": [],
   "source": [
    "# /MyProject/MyProject/urls.py\n",
    "from django.contrib import admin\n",
    "from django.urls import path, include\n",
    "\n",
    "urlpatterns = [\n",
    "    path('admin/', admin.site.urls),\n",
    "    path('app1/', include(\"app1.urls\"))\n",
    "]"
   ]
  },
  {
   "cell_type": "markdown",
   "metadata": {},
   "source": [
    "### settings.py\n",
    "\n",
    "We have already mentioned that whenever a new app is made, it must be added to `INSTALLED_APPS` list in `settings.py`. But we never really said why!? \n",
    "\n",
    "Well if you remove that now, you'll see a couple of errors mentioning that Templates canot be found. The best-practice here is basically adding the app to `settings.py` and ask no more question (for now!). There is however, another way of introducing Templates to Django without adding the app in project setitngs.\n",
    "\n",
    "Let's take a look at `TEMPLATES` in project settings."
   ]
  },
  {
   "cell_type": "code",
   "execution_count": null,
   "metadata": {},
   "outputs": [],
   "source": [
    "from .MyProject.MyProject.settings import *\n",
    "\n",
    "TEMPLATES = [\n",
    "    {\n",
    "        'BACKEND': 'django.template.backends.django.DjangoTemplates',\n",
    "        'DIRS': [],\n",
    "        'APP_DIRS': True,\n",
    "        'OPTIONS': {\n",
    "            'context_processors': [\n",
    "                'django.template.context_processors.debug',\n",
    "                'django.template.context_processors.request',\n",
    "                'django.contrib.auth.context_processors.auth',\n",
    "                'django.contrib.messages.context_processors.messages',\n",
    "            ],\n",
    "        },\n",
    "    },\n",
    "]"
   ]
  },
  {
   "cell_type": "markdown",
   "metadata": {},
   "source": [
    "In this python `list[JSON]` called `TEMPLATES` you can add the directory to your app templade (e. g. `BASE_DIR/\"app1\"/\"templates\"`) at the `DIRS` key. "
   ]
  },
  {
   "cell_type": "code",
   "execution_count": null,
   "metadata": {},
   "outputs": [],
   "source": [
    "TEMPLATES = [\n",
    "    {\n",
    "        'BACKEND': 'django.template.backends.django.DjangoTemplates',\n",
    "        'DIRS': [BASE_DIR/\"app1\"/\"templates\"], # BASE_DIR is defined in settings.py\n",
    "        'APP_DIRS': True,\n",
    "        'OPTIONS': {\n",
    "            'context_processors': [\n",
    "                'django.template.context_processors.debug',\n",
    "                'django.template.context_processors.request',\n",
    "                'django.contrib.auth.context_processors.auth',\n",
    "                'django.contrib.messages.context_processors.messages',\n",
    "            ],\n",
    "        },\n",
    "    },\n",
    "]"
   ]
  },
  {
   "cell_type": "markdown",
   "metadata": {},
   "source": [
    "### Why add to INSTALLED_APPS?\n",
    "\n",
    "With all that said, it's not so clear why we added the app to INSTALLED_APPS earlier. Well for starters, it's way easier to add a single word to a list instead of an entire path to a JOSN. But that's really not the reason.\n",
    "\n",
    "By looking at the key `APP_DIRS` in the TEMPLATES we'll see it is set to `True`. That means that Django is initially configured to look for templated inside anything that is considered an `APP`, and anything that is added to INSTALLED_APPS is indeed and `APP`!\n",
    "\n",
    "Nevertheless, there is more to INSTALLED_APPS than we mentioned, we'll learn about those in Database lessons later on."
   ]
  }
 ],
 "metadata": {
  "language_info": {
   "name": "python"
  }
 },
 "nbformat": 4,
 "nbformat_minor": 2
}
