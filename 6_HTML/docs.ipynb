{
 "cells": [
  {
   "cell_type": "markdown",
   "metadata": {},
   "source": [
    "# HTML Response\n",
    "\n",
    "You must be very well familiar with HTML at this point (go get familiar if you aren't). Of course we're learning Django so we'll be able to send HTML pages back to client side, not plain text!\n",
    "\n",
    "Let's jump right in. Create a view `index` and bind a URL to it."
   ]
  },
  {
   "cell_type": "code",
   "execution_count": null,
   "metadata": {},
   "outputs": [],
   "source": [
    "from django.http import HttpResponse \n",
    "\n",
    "def index(request):\n",
    "    response = f\"<h1>Hello, HTML!</h1>\"\n",
    "    return HttpResponse(response)"
   ]
  },
  {
   "cell_type": "markdown",
   "metadata": {},
   "source": [
    "Very cool, now let's go a little bit deeper. Let's make a list of things the user can choose from. More like a menu."
   ]
  },
  {
   "cell_type": "code",
   "execution_count": null,
   "metadata": {},
   "outputs": [],
   "source": [
    "from django.urls import reverse\n",
    "\n",
    "def menu(request):\n",
    "    dest = reverse(\"root\", args=[])\n",
    "    response = f\"\"\"\n",
    "        <ul>\n",
    "            <li> <a href=\"{dest}\">Click Me!</a> </li>\n",
    "        </ul>\n",
    "    \"\"\"\n",
    "    # Of course you can use the entire Python superpower to make these strings\n",
    "\n",
    "    return HttpResponse(response)"
   ]
  },
  {
   "cell_type": "markdown",
   "metadata": {},
   "source": [
    "Of course you can use the entire Python superpower to make these strings. However, we will learn better ways of sending HTML docs to client side. By using `render()` method provided in `django.shortcuts`.\n",
    "\n",
    "Thanks for your attention so far. From this point, we will dive into Templates which is by itself one hell of a topic. \n",
    "\n",
    "**See you later!**"
   ]
  }
 ],
 "metadata": {
  "language_info": {
   "name": "python"
  }
 },
 "nbformat": 4,
 "nbformat_minor": 2
}
